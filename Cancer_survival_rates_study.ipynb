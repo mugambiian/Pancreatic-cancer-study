{
  "nbformat": 4,
  "nbformat_minor": 0,
  "metadata": {
    "colab": {
      "name": "Cancer survival rates study",
      "provenance": [],
      "include_colab_link": true
    },
    "kernelspec": {
      "name": "python3",
      "display_name": "Python 3"
    },
    "language_info": {
      "name": "python"
    }
  },
  "cells": [
    {
      "cell_type": "markdown",
      "metadata": {
        "id": "view-in-github",
        "colab_type": "text"
      },
      "source": [
        "<a href=\"https://colab.research.google.com/github/Noahkandie/Pancreatic-cancer-study/blob/Dev/Cancer_survival_rates_study.ipynb\" target=\"_parent\"><img src=\"https://colab.research.google.com/assets/colab-badge.svg\" alt=\"Open In Colab\"/></a>"
      ]
    },
    {
      "cell_type": "code",
      "metadata": {
        "id": "ZqY9ieZEC_R9"
      },
      "source": [
        "# Import Libraries\n",
        "import numpy as np\n",
        "import pandas as pd\n",
        "import matplotlib.pyplot as plt\n",
        "import seaborn as sns\n",
        "import scipy.stats as stat"
      ],
      "execution_count": null,
      "outputs": []
    },
    {
      "cell_type": "code",
      "metadata": {
        "colab": {
          "base_uri": "https://localhost:8080/"
        },
        "id": "ztlGvLieEn-f",
        "outputId": "49234c4d-4ede-4172-b27c-84df675a725a"
      },
      "source": [
        "# Load data\n",
        "df= pd.read_csv('/content/KNH_data var.csv')\n",
        "df.info()"
      ],
      "execution_count": null,
      "outputs": [
        {
          "output_type": "stream",
          "text": [
            "<class 'pandas.core.frame.DataFrame'>\n",
            "RangeIndex: 64 entries, 0 to 63\n",
            "Data columns (total 36 columns):\n",
            " #   Column                                     Non-Null Count  Dtype  \n",
            "---  ------                                     --------------  -----  \n",
            " 0   Card_No                                    64 non-null     int64  \n",
            " 1   Age                                        64 non-null     int64  \n",
            " 2   Gender                                     64 non-null     object \n",
            " 3   marital_status                             64 non-null     object \n",
            " 4   Education                                  64 non-null     object \n",
            " 5   occupation                                 64 non-null     object \n",
            " 6   Subsance_use                               64 non-null     object \n",
            " 7   Family_Histroy_cancer                      64 non-null     object \n",
            " 8   Histological_type                          64 non-null     object \n",
            " 9   Location_of_cancer                         64 non-null     object \n",
            " 10  stage_cancer                               64 non-null     object \n",
            " 11  comorbidity                                64 non-null     object \n",
            " 12  Hypertension                               64 non-null     object \n",
            " 13  RVD                                        64 non-null     object \n",
            " 14  DM                                         64 non-null     object \n",
            " 15  COPD                                       64 non-null     object \n",
            " 16  DVT                                        64 non-null     object \n",
            " 17  NO_comorbdity                              64 non-null     object \n",
            " 18  Treatment_Regimen                          64 non-null     object \n",
            " 19  Any_Regimen_change                         64 non-null     object \n",
            " 20  Types_of_chemo_regimen                     64 non-null     object \n",
            " 21  No_cycles_chemo                            64 non-null     object \n",
            " 22  Type_pallative_care                        64 non-null     object \n",
            " 23  No_drugs_given                             64 non-null     object \n",
            " 24  Size_Tumor                                 64 non-null     object \n",
            " 25  Tumor_markers                              64 non-null     object \n",
            " 26  Type_Tumor_markers                         64 non-null     object \n",
            " 27  Distant_Metastasis                         64 non-null     object \n",
            " 28  Site_Metastasis                            64 non-null     object \n",
            " 29  Status                                     64 non-null     object \n",
            " 30  Survival_time                              64 non-null     object \n",
            " 31  Metastasis_free_survival                   64 non-null     object \n",
            " 32  Cancer_specific_survival_after_Metastasis  64 non-null     object \n",
            " 33  Time_Recurrence                            64 non-null     object \n",
            " 34  Status_Remission                           64 non-null     object \n",
            " 35  Age_categories                             64 non-null     float64\n",
            "dtypes: float64(1), int64(2), object(33)\n",
            "memory usage: 18.1+ KB\n"
          ],
          "name": "stdout"
        }
      ]
    },
    {
      "cell_type": "code",
      "metadata": {
        "colab": {
          "base_uri": "https://localhost:8080/",
          "height": 393
        },
        "id": "I0CGvDE2KMVZ",
        "outputId": "5c2fcc50-6859-483e-fdb9-4b96b115b8fe"
      },
      "source": [
        "df.head()"
      ],
      "execution_count": null,
      "outputs": [
        {
          "output_type": "execute_result",
          "data": {
            "text/html": [
              "<div>\n",
              "<style scoped>\n",
              "    .dataframe tbody tr th:only-of-type {\n",
              "        vertical-align: middle;\n",
              "    }\n",
              "\n",
              "    .dataframe tbody tr th {\n",
              "        vertical-align: top;\n",
              "    }\n",
              "\n",
              "    .dataframe thead th {\n",
              "        text-align: right;\n",
              "    }\n",
              "</style>\n",
              "<table border=\"1\" class=\"dataframe\">\n",
              "  <thead>\n",
              "    <tr style=\"text-align: right;\">\n",
              "      <th></th>\n",
              "      <th>Card_No</th>\n",
              "      <th>Age</th>\n",
              "      <th>Gender</th>\n",
              "      <th>marital_status</th>\n",
              "      <th>Education</th>\n",
              "      <th>occupation</th>\n",
              "      <th>Subsance_use</th>\n",
              "      <th>Family_Histroy_cancer</th>\n",
              "      <th>Histological_type</th>\n",
              "      <th>Location_of_cancer</th>\n",
              "      <th>stage_cancer</th>\n",
              "      <th>comorbidity</th>\n",
              "      <th>Hypertension</th>\n",
              "      <th>RVD</th>\n",
              "      <th>DM</th>\n",
              "      <th>COPD</th>\n",
              "      <th>DVT</th>\n",
              "      <th>NO_comorbdity</th>\n",
              "      <th>Treatment_Regimen</th>\n",
              "      <th>Any_Regimen_change</th>\n",
              "      <th>Types_of_chemo_regimen</th>\n",
              "      <th>No_cycles_chemo</th>\n",
              "      <th>Type_pallative_care</th>\n",
              "      <th>No_drugs_given</th>\n",
              "      <th>Size_Tumor</th>\n",
              "      <th>Tumor_markers</th>\n",
              "      <th>Type_Tumor_markers</th>\n",
              "      <th>Distant_Metastasis</th>\n",
              "      <th>Site_Metastasis</th>\n",
              "      <th>Status</th>\n",
              "      <th>Survival_time</th>\n",
              "      <th>Metastasis_free_survival</th>\n",
              "      <th>Cancer_specific_survival_after_Metastasis</th>\n",
              "      <th>Time_Recurrence</th>\n",
              "      <th>Status_Remission</th>\n",
              "      <th>Age_categories</th>\n",
              "    </tr>\n",
              "  </thead>\n",
              "  <tbody>\n",
              "    <tr>\n",
              "      <th>0</th>\n",
              "      <td>1</td>\n",
              "      <td>66</td>\n",
              "      <td>female</td>\n",
              "      <td>married</td>\n",
              "      <td>illterate</td>\n",
              "      <td>unemployed</td>\n",
              "      <td>None</td>\n",
              "      <td>No</td>\n",
              "      <td>Adenocarcinoma</td>\n",
              "      <td>Head</td>\n",
              "      <td>stage II</td>\n",
              "      <td>absent</td>\n",
              "      <td></td>\n",
              "      <td></td>\n",
              "      <td></td>\n",
              "      <td></td>\n",
              "      <td></td>\n",
              "      <td>zero</td>\n",
              "      <td>surgery</td>\n",
              "      <td></td>\n",
              "      <td></td>\n",
              "      <td></td>\n",
              "      <td></td>\n",
              "      <td></td>\n",
              "      <td>Regressed</td>\n",
              "      <td>Absent</td>\n",
              "      <td></td>\n",
              "      <td>No</td>\n",
              "      <td></td>\n",
              "      <td>Censured(Survived or Unknown status)</td>\n",
              "      <td>4</td>\n",
              "      <td></td>\n",
              "      <td></td>\n",
              "      <td></td>\n",
              "      <td>Complete remission</td>\n",
              "      <td>2.0</td>\n",
              "    </tr>\n",
              "    <tr>\n",
              "      <th>1</th>\n",
              "      <td>2</td>\n",
              "      <td>39</td>\n",
              "      <td>male</td>\n",
              "      <td>married</td>\n",
              "      <td>teritary</td>\n",
              "      <td>private employee</td>\n",
              "      <td>smoking cigarette</td>\n",
              "      <td>No</td>\n",
              "      <td>Adenocarcinoma</td>\n",
              "      <td>Head</td>\n",
              "      <td>stage III</td>\n",
              "      <td>absent</td>\n",
              "      <td></td>\n",
              "      <td></td>\n",
              "      <td></td>\n",
              "      <td></td>\n",
              "      <td></td>\n",
              "      <td>zero</td>\n",
              "      <td>Pallative care</td>\n",
              "      <td></td>\n",
              "      <td></td>\n",
              "      <td></td>\n",
              "      <td>ERCP</td>\n",
              "      <td></td>\n",
              "      <td>Progressed</td>\n",
              "      <td>Absent</td>\n",
              "      <td></td>\n",
              "      <td>No</td>\n",
              "      <td></td>\n",
              "      <td>Censured(Survived or Unknown status)</td>\n",
              "      <td>10</td>\n",
              "      <td></td>\n",
              "      <td></td>\n",
              "      <td></td>\n",
              "      <td>Progression of the disease</td>\n",
              "      <td>1.0</td>\n",
              "    </tr>\n",
              "    <tr>\n",
              "      <th>2</th>\n",
              "      <td>3</td>\n",
              "      <td>80</td>\n",
              "      <td>female</td>\n",
              "      <td>widowed</td>\n",
              "      <td>illterate</td>\n",
              "      <td>unemployed</td>\n",
              "      <td>None</td>\n",
              "      <td>No</td>\n",
              "      <td>Adenocarcinoma</td>\n",
              "      <td>Head</td>\n",
              "      <td>stage III</td>\n",
              "      <td>present</td>\n",
              "      <td>yes</td>\n",
              "      <td>No</td>\n",
              "      <td>Yes</td>\n",
              "      <td></td>\n",
              "      <td>No</td>\n",
              "      <td>two</td>\n",
              "      <td>Pallative care</td>\n",
              "      <td></td>\n",
              "      <td></td>\n",
              "      <td></td>\n",
              "      <td>ERCP</td>\n",
              "      <td></td>\n",
              "      <td>Progressed</td>\n",
              "      <td>Absent</td>\n",
              "      <td></td>\n",
              "      <td>No</td>\n",
              "      <td></td>\n",
              "      <td>Censured(Survived or Unknown status)</td>\n",
              "      <td>4</td>\n",
              "      <td></td>\n",
              "      <td></td>\n",
              "      <td></td>\n",
              "      <td>Non-response</td>\n",
              "      <td>2.0</td>\n",
              "    </tr>\n",
              "    <tr>\n",
              "      <th>3</th>\n",
              "      <td>4</td>\n",
              "      <td>54</td>\n",
              "      <td>male</td>\n",
              "      <td>Divorced</td>\n",
              "      <td>teritary</td>\n",
              "      <td>private employee</td>\n",
              "      <td>None</td>\n",
              "      <td>No</td>\n",
              "      <td>Adenocarcinoma</td>\n",
              "      <td>Head</td>\n",
              "      <td>stage III</td>\n",
              "      <td>present</td>\n",
              "      <td>no</td>\n",
              "      <td>Yes</td>\n",
              "      <td>No</td>\n",
              "      <td></td>\n",
              "      <td>No</td>\n",
              "      <td>one</td>\n",
              "      <td>Chemotherapy</td>\n",
              "      <td>No</td>\n",
              "      <td>FOLFIRI</td>\n",
              "      <td>6</td>\n",
              "      <td></td>\n",
              "      <td>&lt;5</td>\n",
              "      <td>Regressed</td>\n",
              "      <td>Present</td>\n",
              "      <td>119</td>\n",
              "      <td>No</td>\n",
              "      <td></td>\n",
              "      <td>Censured(Survived or Unknown status)</td>\n",
              "      <td>84</td>\n",
              "      <td></td>\n",
              "      <td></td>\n",
              "      <td>7</td>\n",
              "      <td>Partial remission</td>\n",
              "      <td>1.0</td>\n",
              "    </tr>\n",
              "    <tr>\n",
              "      <th>4</th>\n",
              "      <td>5</td>\n",
              "      <td>62</td>\n",
              "      <td>male</td>\n",
              "      <td>married</td>\n",
              "      <td>illterate</td>\n",
              "      <td>unemployed</td>\n",
              "      <td>None</td>\n",
              "      <td>No</td>\n",
              "      <td>Adenocarcinoma</td>\n",
              "      <td>Tail</td>\n",
              "      <td>stage IV</td>\n",
              "      <td>absent</td>\n",
              "      <td></td>\n",
              "      <td></td>\n",
              "      <td></td>\n",
              "      <td></td>\n",
              "      <td></td>\n",
              "      <td>zero</td>\n",
              "      <td>Pallative care</td>\n",
              "      <td></td>\n",
              "      <td></td>\n",
              "      <td></td>\n",
              "      <td>Tramadol+plasil</td>\n",
              "      <td></td>\n",
              "      <td>Progressed</td>\n",
              "      <td>Present</td>\n",
              "      <td>999</td>\n",
              "      <td>Yes</td>\n",
              "      <td>liver</td>\n",
              "      <td>Censured(Survived or Unknown status)</td>\n",
              "      <td>1</td>\n",
              "      <td>1</td>\n",
              "      <td>1</td>\n",
              "      <td></td>\n",
              "      <td>Progression of the disease</td>\n",
              "      <td>2.0</td>\n",
              "    </tr>\n",
              "  </tbody>\n",
              "</table>\n",
              "</div>"
            ],
            "text/plain": [
              "   Card_No  Age  ...            Status_Remission Age_categories\n",
              "0        1   66  ...          Complete remission            2.0\n",
              "1        2   39  ...  Progression of the disease            1.0\n",
              "2        3   80  ...                Non-response            2.0\n",
              "3        4   54  ...           Partial remission            1.0\n",
              "4        5   62  ...  Progression of the disease            2.0\n",
              "\n",
              "[5 rows x 36 columns]"
            ]
          },
          "metadata": {
            "tags": []
          },
          "execution_count": 3
        }
      ]
    },
    {
      "cell_type": "code",
      "metadata": {
        "colab": {
          "base_uri": "https://localhost:8080/"
        },
        "id": "AuHr8NACpwsR",
        "outputId": "f277cff7-59b8-427f-9669-8974d0f8f32a"
      },
      "source": [
        "# data cleaning\n",
        "df.isnull().value_counts()"
      ],
      "execution_count": null,
      "outputs": [
        {
          "output_type": "execute_result",
          "data": {
            "text/plain": [
              "Card_No  Age    Gender  marital_status  Education  occupation  Subsance_use  Family_Histroy_cancer  Histological_type  Location_of_cancer  stage_cancer  comorbidity  Hypertension  RVD    DM     COPD   DVT    NO_comorbdity  Treatment_Regimen  Any_Regimen_change  Types_of_chemo_regimen  No_cycles_chemo  Type_pallative_care  No_drugs_given  Size_Tumor  Tumor_markers  Type_Tumor_markers  Distant_Metastasis  Site_Metastasis  Status  Survival_time  Metastasis_free_survival  Cancer_specific_survival_after_Metastasis  Time_Recurrence  Status_Remission  Age_categories\n",
              "False    False  False   False           False      False       False         False                  False              False               False         False        False         False  False  False  False  False          False              False               False                   False            False                False           False       False          False               False               False            False   False          False                     False                                      False            False             False             64\n",
              "dtype: int64"
            ]
          },
          "metadata": {
            "tags": []
          },
          "execution_count": 4
        }
      ]
    },
    {
      "cell_type": "code",
      "metadata": {
        "id": "5ONBc8ZatihM"
      },
      "source": [
        "# Clean data\n",
        "# After passing through the data we got an anomaly at status remission \n",
        "# we Drop that anomaly\n",
        "df.drop(df.loc[df['Status_Remission']=='.'].index, inplace=True)"
      ],
      "execution_count": null,
      "outputs": []
    },
    {
      "cell_type": "code",
      "metadata": {
        "colab": {
          "base_uri": "https://localhost:8080/"
        },
        "id": "cC62yHTmgVxi",
        "outputId": "71c7a592-7b03-4a34-971a-829504ef4ab9"
      },
      "source": [
        "df['Status_Remission'].nunique()"
      ],
      "execution_count": null,
      "outputs": [
        {
          "output_type": "execute_result",
          "data": {
            "text/plain": [
              "4"
            ]
          },
          "metadata": {
            "tags": []
          },
          "execution_count": 6
        }
      ]
    },
    {
      "cell_type": "markdown",
      "metadata": {
        "id": "gBOL9VFQuFS2"
      },
      "source": [
        "Univariate analysis"
      ]
    },
    {
      "cell_type": "code",
      "metadata": {
        "colab": {
          "base_uri": "https://localhost:8080/"
        },
        "id": "Oc_i1SPzuT3e",
        "outputId": "94e250e7-661b-4d55-ee04-aba2f72d6df7"
      },
      "source": [
        "# Age description\n",
        "\n",
        "df['Age'].describe()\n",
        "\n",
        "# mean age is around 60. older people affected\n",
        "# std dev, means variation is high"
      ],
      "execution_count": null,
      "outputs": [
        {
          "output_type": "execute_result",
          "data": {
            "text/plain": [
              "count    63.000000\n",
              "mean     60.698413\n",
              "std      12.445539\n",
              "min      32.000000\n",
              "25%      53.000000\n",
              "50%      60.000000\n",
              "75%      70.000000\n",
              "max      85.000000\n",
              "Name: Age, dtype: float64"
            ]
          },
          "metadata": {
            "tags": []
          },
          "execution_count": 7
        }
      ]
    },
    {
      "cell_type": "code",
      "metadata": {
        "colab": {
          "base_uri": "https://localhost:8080/",
          "height": 313
        },
        "id": "JMsB5yfwuErR",
        "outputId": "6761dac6-fbe8-4719-8809-5c2e6eb76a09"
      },
      "source": [
        "# Check age distribution\n",
        "age=df['Age']\n",
        "#print(age)\n",
        "age.plot(kind='hist',bins=5)\n",
        "plt.xlabel('Age')\n",
        "plt.title('Histogram on age')\n",
        "# Data seems nomarlized"
      ],
      "execution_count": null,
      "outputs": [
        {
          "output_type": "execute_result",
          "data": {
            "text/plain": [
              "Text(0.5, 1.0, 'Histogram on age')"
            ]
          },
          "metadata": {
            "tags": []
          },
          "execution_count": 8
        },
        {
          "output_type": "display_data",
          "data": {
            "image/png": "[encoded data removed]",
            "text/plain": [
              "<Figure size 432x288 with 1 Axes>"
            ]
          },
          "metadata": {
            "tags": [],
            "needs_background": "light"
          }
        }
      ]
    },
    {
      "cell_type": "code",
      "metadata": {
        "colab": {
          "base_uri": "https://localhost:8080/",
          "height": 401
        },
        "id": "oIxBvJXSM-jv",
        "outputId": "36b71d36-7630-4d24-9e8b-f93088f0edb8"
      },
      "source": [
        "# Bar graphs on cancer stages\n",
        "stage=df['stage_cancer'].value_counts()\n",
        "print(stage)\n",
        "stage.plot(kind='bar')\n",
        "\n",
        "# Stage 3 and 4 comprise majority of the diagnosed stages"
      ],
      "execution_count": null,
      "outputs": [
        {
          "output_type": "stream",
          "text": [
            "stage III    32\n",
            "stage IV     23\n",
            "stage II      5\n",
            "stage I       3\n",
            "Name: stage_cancer, dtype: int64\n"
          ],
          "name": "stdout"
        },
        {
          "output_type": "execute_result",
          "data": {
            "text/plain": [
              "<matplotlib.axes._subplots.AxesSubplot at 0x7f8139b7c190>"
            ]
          },
          "metadata": {
            "tags": []
          },
          "execution_count": 9
        },
        {
          "output_type": "display_data",
          "data": {
            "image/png": "[encoded data removed]",
            "text/plain": [
              "<Figure size 432x288 with 1 Axes>"
            ]
          },
          "metadata": {
            "tags": [],
            "needs_background": "light"
          }
        }
      ]
    },
    {
      "cell_type": "code",
      "metadata": {
        "colab": {
          "base_uri": "https://localhost:8080/",
          "height": 553
        },
        "id": "bF2jDYWGNbjo",
        "outputId": "59338f5e-5299-425d-d483-53e4370c1966"
      },
      "source": [
        "# Treatment bar graphs\n",
        "treatment=df['Treatment_Regimen'].value_counts()\n",
        "print(treatment)\n",
        "treatment.plot(kind='bar')\n",
        "# Pallative care and chemotherapy are the most used treatment plans\n",
        "# Two subjects refused treatment"
      ],
      "execution_count": null,
      "outputs": [
        {
          "output_type": "stream",
          "text": [
            "Pallative care                       30\n",
            "Chemotherapy                         20\n",
            "Combination therapy                   6\n",
            "surgery                               5\n",
            "Treatment refusal/missing regimen     2\n",
            "Name: Treatment_Regimen, dtype: int64\n"
          ],
          "name": "stdout"
        },
        {
          "output_type": "execute_result",
          "data": {
            "text/plain": [
              "<matplotlib.axes._subplots.AxesSubplot at 0x7f81396b8c90>"
            ]
          },
          "metadata": {
            "tags": []
          },
          "execution_count": 10
        },
        {
          "output_type": "display_data",
          "data": {
            "image/png": "[encoded data removed]",
            "text/plain": [
              "<Figure size 432x288 with 1 Axes>"
            ]
          },
          "metadata": {
            "tags": [],
            "needs_background": "light"
          }
        }
      ]
    },
    {
      "cell_type": "code",
      "metadata": {
        "colab": {
          "base_uri": "https://localhost:8080/",
          "height": 376
        },
        "id": "rc_2a1DDNiL8",
        "outputId": "a5b29638-5987-4246-ac9e-85c23a9d3ebe"
      },
      "source": [
        "# Gender bargraph\n",
        "gender=df['Gender'].value_counts()\n",
        "print(gender)\n",
        "gender.plot(kind='bar')\n",
        "plt.ylabel('Number of patients')\n",
        "plt.title('Gender bargraph')\n",
        "# the gender distribution is 34 Females abd 30 males"
      ],
      "execution_count": null,
      "outputs": [
        {
          "output_type": "stream",
          "text": [
            "female    34\n",
            "male      29\n",
            "Name: Gender, dtype: int64\n"
          ],
          "name": "stdout"
        },
        {
          "output_type": "execute_result",
          "data": {
            "text/plain": [
              "Text(0.5, 1.0, 'Gender bargraph')"
            ]
          },
          "metadata": {
            "tags": []
          },
          "execution_count": 11
        },
        {
          "output_type": "display_data",
          "data": {
            "image/png": "[encoded data removed]",
            "text/plain": [
              "<Figure size 432x288 with 1 Axes>"
            ]
          },
          "metadata": {
            "tags": [],
            "needs_background": "light"
          }
        }
      ]
    },
    {
      "cell_type": "code",
      "metadata": {
        "colab": {
          "base_uri": "https://localhost:8080/",
          "height": 363
        },
        "id": "y2FETgYxNpjq",
        "outputId": "fb95d567-786f-4c08-c0dd-242922e56cfb"
      },
      "source": [
        "# Presence of comorbidity\n",
        "commobidity=df['comorbidity'].value_counts()\n",
        "print(commobidity)\n",
        "commobidity.plot(kind='bar')\n",
        "\n",
        "# Equal number of commorbidity presence and absence in the data"
      ],
      "execution_count": null,
      "outputs": [
        {
          "output_type": "stream",
          "text": [
            "present    32\n",
            "absent     31\n",
            "Name: comorbidity, dtype: int64\n"
          ],
          "name": "stdout"
        },
        {
          "output_type": "execute_result",
          "data": {
            "text/plain": [
              "<matplotlib.axes._subplots.AxesSubplot at 0x7f813a4ba710>"
            ]
          },
          "metadata": {
            "tags": []
          },
          "execution_count": 12
        },
        {
          "output_type": "display_data",
          "data": {
            "image/png": "[encoded data removed]",
            "text/plain": [
              "<Figure size 432x288 with 1 Axes>"
            ]
          },
          "metadata": {
            "tags": [],
            "needs_background": "light"
          }
        }
      ]
    },
    {
      "cell_type": "code",
      "metadata": {
        "colab": {
          "base_uri": "https://localhost:8080/"
        },
        "id": "fi795HOEPITP",
        "outputId": "bd44ab40-826c-4f85-9bcc-69ebcf574ef3"
      },
      "source": [
        "# SKewness and kurtosis\n",
        "skw=df['Age'].skew()\n",
        "print('skewness= ',skw)\n",
        "krt=df['Age'].kurt()\n",
        "print('kurtosis= ',krt)\n",
        "\n",
        "# we notice a weak negative skewness and kurtosis\n",
        "# This i"
      ],
      "execution_count": null,
      "outputs": [
        {
          "output_type": "stream",
          "text": [
            "skewness=  -0.10943829265637581\n",
            "kurtosis=  -0.30923030832417764\n"
          ],
          "name": "stdout"
        }
      ]
    },
    {
      "cell_type": "markdown",
      "metadata": {
        "id": "SekwrwZRP6fk"
      },
      "source": [
        "Bivariate Analysis"
      ]
    },
    {
      "cell_type": "code",
      "metadata": {
        "colab": {
          "base_uri": "https://localhost:8080/",
          "height": 393
        },
        "id": "n0-1kcIYXFpc",
        "outputId": "ce7d9d73-08a7-483d-9aac-31f80b9eeb68"
      },
      "source": [
        "df[:5]"
      ],
      "execution_count": null,
      "outputs": [
        {
          "output_type": "execute_result",
          "data": {
            "text/html": [
              "<div>\n",
              "<style scoped>\n",
              "    .dataframe tbody tr th:only-of-type {\n",
              "        vertical-align: middle;\n",
              "    }\n",
              "\n",
              "    .dataframe tbody tr th {\n",
              "        vertical-align: top;\n",
              "    }\n",
              "\n",
              "    .dataframe thead th {\n",
              "        text-align: right;\n",
              "    }\n",
              "</style>\n",
              "<table border=\"1\" class=\"dataframe\">\n",
              "  <thead>\n",
              "    <tr style=\"text-align: right;\">\n",
              "      <th></th>\n",
              "      <th>Card_No</th>\n",
              "      <th>Age</th>\n",
              "      <th>Gender</th>\n",
              "      <th>marital_status</th>\n",
              "      <th>Education</th>\n",
              "      <th>occupation</th>\n",
              "      <th>Subsance_use</th>\n",
              "      <th>Family_Histroy_cancer</th>\n",
              "      <th>Histological_type</th>\n",
              "      <th>Location_of_cancer</th>\n",
              "      <th>stage_cancer</th>\n",
              "      <th>comorbidity</th>\n",
              "      <th>Hypertension</th>\n",
              "      <th>RVD</th>\n",
              "      <th>DM</th>\n",
              "      <th>COPD</th>\n",
              "      <th>DVT</th>\n",
              "      <th>NO_comorbdity</th>\n",
              "      <th>Treatment_Regimen</th>\n",
              "      <th>Any_Regimen_change</th>\n",
              "      <th>Types_of_chemo_regimen</th>\n",
              "      <th>No_cycles_chemo</th>\n",
              "      <th>Type_pallative_care</th>\n",
              "      <th>No_drugs_given</th>\n",
              "      <th>Size_Tumor</th>\n",
              "      <th>Tumor_markers</th>\n",
              "      <th>Type_Tumor_markers</th>\n",
              "      <th>Distant_Metastasis</th>\n",
              "      <th>Site_Metastasis</th>\n",
              "      <th>Status</th>\n",
              "      <th>Survival_time</th>\n",
              "      <th>Metastasis_free_survival</th>\n",
              "      <th>Cancer_specific_survival_after_Metastasis</th>\n",
              "      <th>Time_Recurrence</th>\n",
              "      <th>Status_Remission</th>\n",
              "      <th>Age_categories</th>\n",
              "    </tr>\n",
              "  </thead>\n",
              "  <tbody>\n",
              "    <tr>\n",
              "      <th>0</th>\n",
              "      <td>1</td>\n",
              "      <td>66</td>\n",
              "      <td>female</td>\n",
              "      <td>married</td>\n",
              "      <td>illterate</td>\n",
              "      <td>unemployed</td>\n",
              "      <td>None</td>\n",
              "      <td>No</td>\n",
              "      <td>Adenocarcinoma</td>\n",
              "      <td>Head</td>\n",
              "      <td>stage II</td>\n",
              "      <td>absent</td>\n",
              "      <td></td>\n",
              "      <td></td>\n",
              "      <td></td>\n",
              "      <td></td>\n",
              "      <td></td>\n",
              "      <td>zero</td>\n",
              "      <td>surgery</td>\n",
              "      <td></td>\n",
              "      <td></td>\n",
              "      <td></td>\n",
              "      <td></td>\n",
              "      <td></td>\n",
              "      <td>Regressed</td>\n",
              "      <td>Absent</td>\n",
              "      <td></td>\n",
              "      <td>No</td>\n",
              "      <td></td>\n",
              "      <td>Censured(Survived or Unknown status)</td>\n",
              "      <td>4</td>\n",
              "      <td></td>\n",
              "      <td></td>\n",
              "      <td></td>\n",
              "      <td>Complete remission</td>\n",
              "      <td>2.0</td>\n",
              "    </tr>\n",
              "    <tr>\n",
              "      <th>1</th>\n",
              "      <td>2</td>\n",
              "      <td>39</td>\n",
              "      <td>male</td>\n",
              "      <td>married</td>\n",
              "      <td>teritary</td>\n",
              "      <td>private employee</td>\n",
              "      <td>smoking cigarette</td>\n",
              "      <td>No</td>\n",
              "      <td>Adenocarcinoma</td>\n",
              "      <td>Head</td>\n",
              "      <td>stage III</td>\n",
              "      <td>absent</td>\n",
              "      <td></td>\n",
              "      <td></td>\n",
              "      <td></td>\n",
              "      <td></td>\n",
              "      <td></td>\n",
              "      <td>zero</td>\n",
              "      <td>Pallative care</td>\n",
              "      <td></td>\n",
              "      <td></td>\n",
              "      <td></td>\n",
              "      <td>ERCP</td>\n",
              "      <td></td>\n",
              "      <td>Progressed</td>\n",
              "      <td>Absent</td>\n",
              "      <td></td>\n",
              "      <td>No</td>\n",
              "      <td></td>\n",
              "      <td>Censured(Survived or Unknown status)</td>\n",
              "      <td>10</td>\n",
              "      <td></td>\n",
              "      <td></td>\n",
              "      <td></td>\n",
              "      <td>Progression of the disease</td>\n",
              "      <td>1.0</td>\n",
              "    </tr>\n",
              "    <tr>\n",
              "      <th>2</th>\n",
              "      <td>3</td>\n",
              "      <td>80</td>\n",
              "      <td>female</td>\n",
              "      <td>widowed</td>\n",
              "      <td>illterate</td>\n",
              "      <td>unemployed</td>\n",
              "      <td>None</td>\n",
              "      <td>No</td>\n",
              "      <td>Adenocarcinoma</td>\n",
              "      <td>Head</td>\n",
              "      <td>stage III</td>\n",
              "      <td>present</td>\n",
              "      <td>yes</td>\n",
              "      <td>No</td>\n",
              "      <td>Yes</td>\n",
              "      <td></td>\n",
              "      <td>No</td>\n",
              "      <td>two</td>\n",
              "      <td>Pallative care</td>\n",
              "      <td></td>\n",
              "      <td></td>\n",
              "      <td></td>\n",
              "      <td>ERCP</td>\n",
              "      <td></td>\n",
              "      <td>Progressed</td>\n",
              "      <td>Absent</td>\n",
              "      <td></td>\n",
              "      <td>No</td>\n",
              "      <td></td>\n",
              "      <td>Censured(Survived or Unknown status)</td>\n",
              "      <td>4</td>\n",
              "      <td></td>\n",
              "      <td></td>\n",
              "      <td></td>\n",
              "      <td>Non-response</td>\n",
              "      <td>2.0</td>\n",
              "    </tr>\n",
              "    <tr>\n",
              "      <th>3</th>\n",
              "      <td>4</td>\n",
              "      <td>54</td>\n",
              "      <td>male</td>\n",
              "      <td>Divorced</td>\n",
              "      <td>teritary</td>\n",
              "      <td>private employee</td>\n",
              "      <td>None</td>\n",
              "      <td>No</td>\n",
              "      <td>Adenocarcinoma</td>\n",
              "      <td>Head</td>\n",
              "      <td>stage III</td>\n",
              "      <td>present</td>\n",
              "      <td>no</td>\n",
              "      <td>Yes</td>\n",
              "      <td>No</td>\n",
              "      <td></td>\n",
              "      <td>No</td>\n",
              "      <td>one</td>\n",
              "      <td>Chemotherapy</td>\n",
              "      <td>No</td>\n",
              "      <td>FOLFIRI</td>\n",
              "      <td>6</td>\n",
              "      <td></td>\n",
              "      <td>&lt;5</td>\n",
              "      <td>Regressed</td>\n",
              "      <td>Present</td>\n",
              "      <td>119</td>\n",
              "      <td>No</td>\n",
              "      <td></td>\n",
              "      <td>Censured(Survived or Unknown status)</td>\n",
              "      <td>84</td>\n",
              "      <td></td>\n",
              "      <td></td>\n",
              "      <td>7</td>\n",
              "      <td>Partial remission</td>\n",
              "      <td>1.0</td>\n",
              "    </tr>\n",
              "    <tr>\n",
              "      <th>4</th>\n",
              "      <td>5</td>\n",
              "      <td>62</td>\n",
              "      <td>male</td>\n",
              "      <td>married</td>\n",
              "      <td>illterate</td>\n",
              "      <td>unemployed</td>\n",
              "      <td>None</td>\n",
              "      <td>No</td>\n",
              "      <td>Adenocarcinoma</td>\n",
              "      <td>Tail</td>\n",
              "      <td>stage IV</td>\n",
              "      <td>absent</td>\n",
              "      <td></td>\n",
              "      <td></td>\n",
              "      <td></td>\n",
              "      <td></td>\n",
              "      <td></td>\n",
              "      <td>zero</td>\n",
              "      <td>Pallative care</td>\n",
              "      <td></td>\n",
              "      <td></td>\n",
              "      <td></td>\n",
              "      <td>Tramadol+plasil</td>\n",
              "      <td></td>\n",
              "      <td>Progressed</td>\n",
              "      <td>Present</td>\n",
              "      <td>999</td>\n",
              "      <td>Yes</td>\n",
              "      <td>liver</td>\n",
              "      <td>Censured(Survived or Unknown status)</td>\n",
              "      <td>1</td>\n",
              "      <td>1</td>\n",
              "      <td>1</td>\n",
              "      <td></td>\n",
              "      <td>Progression of the disease</td>\n",
              "      <td>2.0</td>\n",
              "    </tr>\n",
              "  </tbody>\n",
              "</table>\n",
              "</div>"
            ],
            "text/plain": [
              "   Card_No  Age  ...            Status_Remission Age_categories\n",
              "0        1   66  ...          Complete remission            2.0\n",
              "1        2   39  ...  Progression of the disease            1.0\n",
              "2        3   80  ...                Non-response            2.0\n",
              "3        4   54  ...           Partial remission            1.0\n",
              "4        5   62  ...  Progression of the disease            2.0\n",
              "\n",
              "[5 rows x 36 columns]"
            ]
          },
          "metadata": {
            "tags": []
          },
          "execution_count": 14
        }
      ]
    },
    {
      "cell_type": "code",
      "metadata": {
        "id": "iozzUClIIwu2"
      },
      "source": [
        "#df = df['Status'].applymap(lambda x: str(x).rstrip('(Survived or Unknown status)'))"
      ],
      "execution_count": null,
      "outputs": []
    },
    {
      "cell_type": "code",
      "metadata": {
        "id": "qNEWOje6HLwK"
      },
      "source": [
        "x=df.groupby('stage_cancer')\n",
        "x1=x['Status'].value_counts()\n"
      ],
      "execution_count": null,
      "outputs": []
    },
    {
      "cell_type": "code",
      "metadata": {
        "colab": {
          "base_uri": "https://localhost:8080/"
        },
        "id": "dBd0QdTOZUgN",
        "outputId": "f885639e-e0f1-40ec-96c0-8f783a3b7ad5"
      },
      "source": [
        "# Frequenct tables of stage of cancer and status of patient\n",
        "x=df.groupby('stage_cancer')\n",
        "x['Status'].value_counts()"
      ],
      "execution_count": null,
      "outputs": [
        {
          "output_type": "execute_result",
          "data": {
            "text/plain": [
              "stage_cancer  Status                              \n",
              "stage I       Censured(Survived or Unknown status)     3\n",
              "stage II      Censured(Survived or Unknown status)     5\n",
              "stage III     Censured(Survived or Unknown status)    27\n",
              "              death                                    5\n",
              "stage IV      Censured(Survived or Unknown status)    15\n",
              "              death                                    8\n",
              "Name: Status, dtype: int64"
            ]
          },
          "metadata": {
            "tags": []
          },
          "execution_count": 17
        }
      ]
    },
    {
      "cell_type": "code",
      "metadata": {
        "colab": {
          "base_uri": "https://localhost:8080/",
          "height": 343
        },
        "id": "6_MrH1DWZoyH",
        "outputId": "fd5fe61f-db4e-4578-d81c-883444db1c36"
      },
      "source": [
        "# Bar graph on stage cancer and status\n",
        "df1=df.groupby('stage_cancer')\n",
        "df1['Status'].value_counts().unstack().plot.bar()\n",
        "plt.ylabel('Number of patients')\n",
        "plt.title('Comparison of patient status and number of patients')\n",
        "# Death occurs in stage 3 and 4\n",
        "# majority of the patients are later stages."
      ],
      "execution_count": null,
      "outputs": [
        {
          "output_type": "execute_result",
          "data": {
            "text/plain": [
              "Text(0.5, 1.0, 'Comparison of patient status and number of patients')"
            ]
          },
          "metadata": {
            "tags": []
          },
          "execution_count": 18
        },
        {
          "output_type": "display_data",
          "data": {
            "image/png": "[encoded data removed]",
            "text/plain": [
              "<Figure size 432x288 with 1 Axes>"
            ]
          },
          "metadata": {
            "tags": [],
            "needs_background": "light"
          }
        }
      ]
    },
    {
      "cell_type": "code",
      "metadata": {
        "colab": {
          "base_uri": "https://localhost:8080/"
        },
        "id": "GSFxj1vAFcML",
        "outputId": "7854d56d-7efd-48f2-e8d2-1acb9855c617"
      },
      "source": [
        "# Frequency table on the stage of cancer and status of remission of cancer\n",
        "x=df.groupby('stage_cancer')\n",
        "x['Status_Remission'].value_counts()"
      ],
      "execution_count": null,
      "outputs": [
        {
          "output_type": "execute_result",
          "data": {
            "text/plain": [
              "stage_cancer  Status_Remission          \n",
              "stage I       Complete remission             1\n",
              "              Non-response                   1\n",
              "              Progression of the disease     1\n",
              "stage II      Complete remission             2\n",
              "              Partial remission              2\n",
              "              Non-response                   1\n",
              "stage III     Progression of the disease    24\n",
              "              Non-response                   4\n",
              "              Partial remission              4\n",
              "stage IV      Progression of the disease    23\n",
              "Name: Status_Remission, dtype: int64"
            ]
          },
          "metadata": {
            "tags": []
          },
          "execution_count": 19
        }
      ]
    },
    {
      "cell_type": "code",
      "metadata": {
        "colab": {
          "base_uri": "https://localhost:8080/",
          "height": 343
        },
        "id": "90K1gWG2U4Ky",
        "outputId": "f2d1828c-191e-4dc8-8544-3be5965db46b"
      },
      "source": [
        "# Bar Graph on the stage of cancer and status of remission of cancer\n",
        "df1=df.groupby('stage_cancer')\n",
        "df1['Status_Remission'].value_counts().unstack().plot.bar(stacked=True)\n",
        "plt.ylabel('Number of patients')\n",
        "plt.title('Comparison of status of remission of cancer and number of patients')"
      ],
      "execution_count": null,
      "outputs": [
        {
          "output_type": "execute_result",
          "data": {
            "text/plain": [
              "Text(0.5, 1.0, 'Comparison of status of remission of cancer and number of patients')"
            ]
          },
          "metadata": {
            "tags": []
          },
          "execution_count": 20
        },
        {
          "output_type": "display_data",
          "data": {
            "image/png": "[encoded data removed]",
            "text/plain": [
              "<Figure size 432x288 with 1 Axes>"
            ]
          },
          "metadata": {
            "tags": [],
            "needs_background": "light"
          }
        }
      ]
    },
    {
      "cell_type": "code",
      "metadata": {
        "colab": {
          "base_uri": "https://localhost:8080/"
        },
        "id": "sLC_9-HVYCSQ",
        "outputId": "1738eb57-9ac9-4c49-c947-b1941ab2e61b"
      },
      "source": [
        "# Frequency table of commorbidity and status of remmision\n",
        "aa=df.groupby('comorbidity')\n",
        "aa['Status_Remission'].value_counts()"
      ],
      "execution_count": null,
      "outputs": [
        {
          "output_type": "execute_result",
          "data": {
            "text/plain": [
              "comorbidity  Status_Remission          \n",
              "absent       Progression of the disease    20\n",
              "             Non-response                   5\n",
              "             Complete remission             3\n",
              "             Partial remission              3\n",
              "present      Progression of the disease    28\n",
              "             Partial remission              3\n",
              "             Non-response                   1\n",
              "Name: Status_Remission, dtype: int64"
            ]
          },
          "metadata": {
            "tags": []
          },
          "execution_count": 21
        }
      ]
    },
    {
      "cell_type": "code",
      "metadata": {
        "colab": {
          "base_uri": "https://localhost:8080/",
          "height": 340
        },
        "id": "vxIGMrV0WMV1",
        "outputId": "1e235d1b-9fcc-4651-ed45-96e1369e7af9"
      },
      "source": [
        "# Bar graph\n",
        "df_1=df.groupby('comorbidity')\n",
        "df_1['Status_Remission'].value_counts().unstack().plot.bar(stacked=True,legend='center')\n",
        "plt.ylabel('Number of patients')\n",
        "plt.title('Comparison of status of comorbidity and remission of cancer')\n",
        "\n",
        "# "
      ],
      "execution_count": null,
      "outputs": [
        {
          "output_type": "execute_result",
          "data": {
            "text/plain": [
              "Text(0.5, 1.0, 'Comparison of status of comorbidity and remission of cancer')"
            ]
          },
          "metadata": {
            "tags": []
          },
          "execution_count": 22
        },
        {
          "output_type": "display_data",
          "data": {
            "image/png": "[encoded data removed]",
            "text/plain": [
              "<Figure size 432x288 with 1 Axes>"
            ]
          },
          "metadata": {
            "tags": [],
            "needs_background": "light"
          }
        }
      ]
    },
    {
      "cell_type": "code",
      "metadata": {
        "colab": {
          "base_uri": "https://localhost:8080/",
          "height": 142
        },
        "id": "KX--nozYaivM",
        "outputId": "0b51f2f6-2dfd-4ecf-ff28-2ad691ad822b"
      },
      "source": [
        "a=df['comorbidity']\n",
        "r=df['Status_Remission']\n",
        "ar=pd.crosstab(a,r)\n",
        "ar"
      ],
      "execution_count": null,
      "outputs": [
        {
          "output_type": "execute_result",
          "data": {
            "text/html": [
              "<div>\n",
              "<style scoped>\n",
              "    .dataframe tbody tr th:only-of-type {\n",
              "        vertical-align: middle;\n",
              "    }\n",
              "\n",
              "    .dataframe tbody tr th {\n",
              "        vertical-align: top;\n",
              "    }\n",
              "\n",
              "    .dataframe thead th {\n",
              "        text-align: right;\n",
              "    }\n",
              "</style>\n",
              "<table border=\"1\" class=\"dataframe\">\n",
              "  <thead>\n",
              "    <tr style=\"text-align: right;\">\n",
              "      <th>Status_Remission</th>\n",
              "      <th>Complete remission</th>\n",
              "      <th>Non-response</th>\n",
              "      <th>Partial remission</th>\n",
              "      <th>Progression of the disease</th>\n",
              "    </tr>\n",
              "    <tr>\n",
              "      <th>comorbidity</th>\n",
              "      <th></th>\n",
              "      <th></th>\n",
              "      <th></th>\n",
              "      <th></th>\n",
              "    </tr>\n",
              "  </thead>\n",
              "  <tbody>\n",
              "    <tr>\n",
              "      <th>absent</th>\n",
              "      <td>3</td>\n",
              "      <td>5</td>\n",
              "      <td>3</td>\n",
              "      <td>20</td>\n",
              "    </tr>\n",
              "    <tr>\n",
              "      <th>present</th>\n",
              "      <td>0</td>\n",
              "      <td>1</td>\n",
              "      <td>3</td>\n",
              "      <td>28</td>\n",
              "    </tr>\n",
              "  </tbody>\n",
              "</table>\n",
              "</div>"
            ],
            "text/plain": [
              "Status_Remission  Complete remission  ...  Progression of the disease\n",
              "comorbidity                           ...                            \n",
              "absent                             3  ...                          20\n",
              "present                            0  ...                          28\n",
              "\n",
              "[2 rows x 4 columns]"
            ]
          },
          "metadata": {
            "tags": []
          },
          "execution_count": 23
        }
      ]
    },
    {
      "cell_type": "code",
      "metadata": {
        "colab": {
          "base_uri": "https://localhost:8080/",
          "height": 479
        },
        "id": "P5L2OKfZZ7bo",
        "outputId": "b7ce1059-83b8-4601-e8e5-e52b2d75524b"
      },
      "source": [
        "df1=df.groupby('Treatment_Regimen')\n",
        "df1['Status_Remission'].value_counts().unstack().plot.bar(stacked=True)\n",
        "plt.ylabel('Number of patients')\n",
        "plt.title('Comparison of status of remission of cancer and number of patients')"
      ],
      "execution_count": null,
      "outputs": [
        {
          "output_type": "execute_result",
          "data": {
            "text/plain": [
              "Text(0.5, 1.0, 'Comparison of status of remission of cancer and number of patients')"
            ]
          },
          "metadata": {
            "tags": []
          },
          "execution_count": 24
        },
        {
          "output_type": "display_data",
          "data": {
            "image/png": "[encoded data removed]",
            "text/plain": [
              "<Figure size 432x288 with 1 Axes>"
            ]
          },
          "metadata": {
            "tags": [],
            "needs_background": "light"
          }
        }
      ]
    },
    {
      "cell_type": "code",
      "metadata": {
        "colab": {
          "base_uri": "https://localhost:8080/",
          "height": 234
        },
        "id": "4F3VT_-zWWDu",
        "outputId": "3a0ad670-1547-42fc-da10-4c16e28dddca"
      },
      "source": [
        "# A Percentage table of treatment regimen and remmission status\n",
        "pd.crosstab(df['Treatment_Regimen'],df['Status_Remission'],normalize='index')"
      ],
      "execution_count": null,
      "outputs": [
        {
          "output_type": "execute_result",
          "data": {
            "text/html": [
              "<div>\n",
              "<style scoped>\n",
              "    .dataframe tbody tr th:only-of-type {\n",
              "        vertical-align: middle;\n",
              "    }\n",
              "\n",
              "    .dataframe tbody tr th {\n",
              "        vertical-align: top;\n",
              "    }\n",
              "\n",
              "    .dataframe thead th {\n",
              "        text-align: right;\n",
              "    }\n",
              "</style>\n",
              "<table border=\"1\" class=\"dataframe\">\n",
              "  <thead>\n",
              "    <tr style=\"text-align: right;\">\n",
              "      <th>Status_Remission</th>\n",
              "      <th>Complete remission</th>\n",
              "      <th>Non-response</th>\n",
              "      <th>Partial remission</th>\n",
              "      <th>Progression of the disease</th>\n",
              "    </tr>\n",
              "    <tr>\n",
              "      <th>Treatment_Regimen</th>\n",
              "      <th></th>\n",
              "      <th></th>\n",
              "      <th></th>\n",
              "      <th></th>\n",
              "    </tr>\n",
              "  </thead>\n",
              "  <tbody>\n",
              "    <tr>\n",
              "      <th>Chemotherapy</th>\n",
              "      <td>0.000000</td>\n",
              "      <td>0.150000</td>\n",
              "      <td>0.100000</td>\n",
              "      <td>0.750000</td>\n",
              "    </tr>\n",
              "    <tr>\n",
              "      <th>Combination therapy</th>\n",
              "      <td>0.166667</td>\n",
              "      <td>0.333333</td>\n",
              "      <td>0.166667</td>\n",
              "      <td>0.333333</td>\n",
              "    </tr>\n",
              "    <tr>\n",
              "      <th>Pallative care</th>\n",
              "      <td>0.000000</td>\n",
              "      <td>0.033333</td>\n",
              "      <td>0.000000</td>\n",
              "      <td>0.966667</td>\n",
              "    </tr>\n",
              "    <tr>\n",
              "      <th>Treatment refusal/missing regimen</th>\n",
              "      <td>0.000000</td>\n",
              "      <td>0.000000</td>\n",
              "      <td>0.000000</td>\n",
              "      <td>1.000000</td>\n",
              "    </tr>\n",
              "    <tr>\n",
              "      <th>surgery</th>\n",
              "      <td>0.400000</td>\n",
              "      <td>0.000000</td>\n",
              "      <td>0.600000</td>\n",
              "      <td>0.000000</td>\n",
              "    </tr>\n",
              "  </tbody>\n",
              "</table>\n",
              "</div>"
            ],
            "text/plain": [
              "Status_Remission                   Complete remission  ...  Progression of the disease\n",
              "Treatment_Regimen                                      ...                            \n",
              "Chemotherapy                                 0.000000  ...                    0.750000\n",
              "Combination therapy                          0.166667  ...                    0.333333\n",
              "Pallative care                               0.000000  ...                    0.966667\n",
              "Treatment refusal/missing regimen            0.000000  ...                    1.000000\n",
              "surgery                                      0.400000  ...                    0.000000\n",
              "\n",
              "[5 rows x 4 columns]"
            ]
          },
          "metadata": {
            "tags": []
          },
          "execution_count": 25
        }
      ]
    },
    {
      "cell_type": "code",
      "metadata": {
        "colab": {
          "base_uri": "https://localhost:8080/"
        },
        "id": "7ZIyC5ugHkVE",
        "outputId": "4803eaf8-b603-440b-cfbe-13d6a969bdab"
      },
      "source": [
        "x=df.groupby('comorbidity')\n",
        "x['Status'].value_counts()"
      ],
      "execution_count": null,
      "outputs": [
        {
          "output_type": "execute_result",
          "data": {
            "text/plain": [
              "comorbidity  Status                              \n",
              "absent       Censured(Survived or Unknown status)    27\n",
              "             death                                    4\n",
              "present      Censured(Survived or Unknown status)    23\n",
              "             death                                    9\n",
              "Name: Status, dtype: int64"
            ]
          },
          "metadata": {
            "tags": []
          },
          "execution_count": 26
        }
      ]
    },
    {
      "cell_type": "code",
      "metadata": {
        "colab": {
          "base_uri": "https://localhost:8080/"
        },
        "id": "6YPQW3mBIB8u",
        "outputId": "5d1ac11e-06b3-4273-8e47-3f745141486d"
      },
      "source": [
        "x=df.groupby(['stage_cancer','Treatment_Regimen'])\n",
        "x['Status'].value_counts()"
      ],
      "execution_count": null,
      "outputs": [
        {
          "output_type": "execute_result",
          "data": {
            "text/plain": [
              "stage_cancer  Treatment_Regimen                  Status                              \n",
              "stage I       Combination therapy                Censured(Survived or Unknown status)     3\n",
              "stage II      Chemotherapy                       Censured(Survived or Unknown status)     1\n",
              "              Combination therapy                Censured(Survived or Unknown status)     1\n",
              "              surgery                            Censured(Survived or Unknown status)     3\n",
              "stage III     Chemotherapy                       Censured(Survived or Unknown status)     9\n",
              "                                                 death                                    1\n",
              "              Combination therapy                Censured(Survived or Unknown status)     1\n",
              "              Pallative care                     Censured(Survived or Unknown status)    15\n",
              "                                                 death                                    3\n",
              "              Treatment refusal/missing regimen  Censured(Survived or Unknown status)     1\n",
              "              surgery                            Censured(Survived or Unknown status)     1\n",
              "                                                 death                                    1\n",
              "stage IV      Chemotherapy                       Censured(Survived or Unknown status)     7\n",
              "                                                 death                                    2\n",
              "              Combination therapy                Censured(Survived or Unknown status)     1\n",
              "              Pallative care                     Censured(Survived or Unknown status)     6\n",
              "                                                 death                                    6\n",
              "              Treatment refusal/missing regimen  Censured(Survived or Unknown status)     1\n",
              "Name: Status, dtype: int64"
            ]
          },
          "metadata": {
            "tags": []
          },
          "execution_count": 27
        }
      ]
    },
    {
      "cell_type": "code",
      "metadata": {
        "colab": {
          "base_uri": "https://localhost:8080/"
        },
        "id": "XXScf55JWguN",
        "outputId": "76aca3ba-63c1-41ed-ad88-f854982f4053"
      },
      "source": [
        "from scipy.stats import shapiro\n",
        "stat, p = shapiro(df['Age'])\n",
        "print('Statistics=%.3f, p=%.3f' % (stat, p))\n",
        "# interpret\n",
        "alpha = 0.05\n",
        "if p > alpha:\n",
        "\tprint('Sample looks Gaussian')\n",
        "else:\n",
        "\tprint('Sample does not look Gaussian')"
      ],
      "execution_count": null,
      "outputs": [
        {
          "output_type": "stream",
          "text": [
            "Statistics=0.987, p=0.762\n",
            "Sample looks Gaussian\n"
          ],
          "name": "stdout"
        }
      ]
    },
    {
      "cell_type": "code",
      "metadata": {
        "id": "MnUjDsZDk20j"
      },
      "source": [
        "# #abs=df_encoded[df_encoded['stage_cancer']==1]\n",
        "# #absent=abs['Status_Remission'].sample(31)\n",
        "\n",
        "# pre=df_encoded[df_encoded['stage_cancer']==4]\n",
        "# present=pre['Status_Remission'].sample(31)\n"
      ],
      "execution_count": null,
      "outputs": []
    },
    {
      "cell_type": "code",
      "metadata": {
        "id": "pk6pjWs5W2pT"
      },
      "source": [
        "# abs=df_encoded.groupby(df_encoded['']=='absent')\n",
        "# absent=abs['Status_Remission']\n",
        "# pre=df_encoded.groupby(df_encoded['comorbidity']=='present')\n",
        "# present=pre['Status_Remission']"
      ],
      "execution_count": null,
      "outputs": []
    },
    {
      "cell_type": "code",
      "metadata": {
        "id": "h5Rmog_XkUMS"
      },
      "source": [
        "# absent=pd.to_numeric(absent)\n",
        "# present=pd.to_numeric(present)"
      ],
      "execution_count": null,
      "outputs": []
    },
    {
      "cell_type": "code",
      "metadata": {
        "id": "vY-a7AbtjqRT"
      },
      "source": [
        "# # Calculate the statistic and p value\n",
        "# from scipy.stats import wilcoxon\n",
        "# # compare samples\n",
        "# stat, p = wilcoxon(absent,present)\n",
        "# print('Statistics=%.3f, p=%.3f' % (stat, p))\n",
        "# # interpret\n",
        "# alpha = 0.05\n",
        "# if p > alpha:\n",
        "#     print('Fail to reject H0')\n",
        "# else:\n",
        "#     print('Reject H0')"
      ],
      "execution_count": null,
      "outputs": []
    },
    {
      "cell_type": "markdown",
      "metadata": {
        "id": "j9X1BogM3JTm"
      },
      "source": [
        "### Hypothesis Testing\n"
      ]
    },
    {
      "cell_type": "markdown",
      "metadata": {
        "id": "NtFiR7d43OS2"
      },
      "source": [
        "Chi-2 test\n",
        "The Chi-Squared test is a statistical hypothesis test that assumes (the null hypothesis) that the observed frequencies for a categorical variable match the expected frequencies for the categorical variable.\n"
      ]
    },
    {
      "cell_type": "code",
      "metadata": {
        "colab": {
          "base_uri": "https://localhost:8080/"
        },
        "id": "qe0z--112fPD",
        "outputId": "d54a844b-9ca5-48b2-e4ff-b4103e9c9f7c"
      },
      "source": [
        "# Chi square test on indendepence of Cancer stages and status of remission\n",
        "ar=pd.crosstab(df['stage_cancer'],df['Status_Remission'])\n",
        "from scipy.stats import chi2_contingency\n",
        "chi2_contingency(ar)\n",
        "\n",
        "# alpha=0.05\n",
        "# p value= 9.165821691512042e-06\n",
        "# alpha > pvalue\n",
        "# We reject H0 and conclude there is evidence of association between stages of cancer and status and remission"
      ],
      "execution_count": null,
      "outputs": [
        {
          "output_type": "execute_result",
          "data": {
            "text/plain": [
              "(39.55,\n",
              " 9.165821691512042e-06,\n",
              " 9,\n",
              " array([[ 0.14285714,  0.28571429,  0.28571429,  2.28571429],\n",
              "        [ 0.23809524,  0.47619048,  0.47619048,  3.80952381],\n",
              "        [ 1.52380952,  3.04761905,  3.04761905, 24.38095238],\n",
              "        [ 1.0952381 ,  2.19047619,  2.19047619, 17.52380952]]))"
            ]
          },
          "metadata": {
            "tags": []
          },
          "execution_count": 33
        }
      ]
    },
    {
      "cell_type": "code",
      "metadata": {
        "colab": {
          "base_uri": "https://localhost:8080/"
        },
        "id": "7P9_7en820Mb",
        "outputId": "002432df-9305-4fbf-c6a5-667e53586334"
      },
      "source": [
        "# Chi square test on indendepence of Treatment regimen and status of remission\n",
        "ar=pd.crosstab(df['Treatment_Regimen'],df['Status_Remission'])\n",
        "from scipy.stats import chi2_contingency\n",
        "chi2_contingency(ar)\n",
        "\n",
        "# alpha=0.05\n",
        "# p value= 4.331105732985716e-06\n",
        "# alpha > pvalue\n",
        "# We reject H0 and conclude there is evidence of association between treatment regimen and status remission"
      ],
      "execution_count": null,
      "outputs": [
        {
          "output_type": "execute_result",
          "data": {
            "text/plain": [
              "(47.184375,\n",
              " 4.331105732985716e-06,\n",
              " 12,\n",
              " array([[ 0.95238095,  1.9047619 ,  1.9047619 , 15.23809524],\n",
              "        [ 0.28571429,  0.57142857,  0.57142857,  4.57142857],\n",
              "        [ 1.42857143,  2.85714286,  2.85714286, 22.85714286],\n",
              "        [ 0.0952381 ,  0.19047619,  0.19047619,  1.52380952],\n",
              "        [ 0.23809524,  0.47619048,  0.47619048,  3.80952381]]))"
            ]
          },
          "metadata": {
            "tags": []
          },
          "execution_count": 34
        }
      ]
    },
    {
      "cell_type": "code",
      "metadata": {
        "colab": {
          "base_uri": "https://localhost:8080/"
        },
        "id": "txuwXalQpncj",
        "outputId": "27c52c36-ea52-4acc-d447-ee95e66d1f59"
      },
      "source": [
        "# Chi square test on indendepence of comorbidities and status of remission\n",
        "ar=pd.crosstab(df['comorbidity'],df['Status_Remission'])\n",
        "from scipy.stats import chi2_contingency\n",
        "chi2_contingency(ar)\n",
        "\n",
        "# alpha=0.05\n",
        "# p value= 0.0723\n",
        "# alpha < pvalue\n",
        "# We fail to reject H0 and conclude there is no evidence of assiciation between commorbidity and status and remission\n"
      ],
      "execution_count": null,
      "outputs": [
        {
          "output_type": "execute_result",
          "data": {
            "text/plain": [
              "(6.985887096774193,\n",
              " 0.07234896166765376,\n",
              " 3,\n",
              " array([[ 1.47619048,  2.95238095,  2.95238095, 23.61904762],\n",
              "        [ 1.52380952,  3.04761905,  3.04761905, 24.38095238]]))"
            ]
          },
          "metadata": {
            "tags": []
          },
          "execution_count": 35
        }
      ]
    },
    {
      "cell_type": "code",
      "metadata": {
        "id": "SdvcYPbIX1Do"
      },
      "source": [
        "# # Label encoding\n",
        "\n",
        "# from sklearn.preprocessing import LabelEncoder\n",
        "# label_encoder = LabelEncoder()\n",
        "# df['Gender']=label_encoder.fit_transform(df['Gender'])\n",
        "# df['marital_status']=label_encoder.fit_transform(df['marital_status'])\n",
        "# df['Education']=label_encoder.fit_transform(df['Education'])\n",
        "# df['Subsance_use']=label_encoder.fit_transform(df['Subsance_use'])\n",
        "# df['occupation']=label_encoder.fit_transform(df['occupation'])\n",
        "# df['Family_Histroy_cancer']=label_encoder.fit_transform(df['Family_Histroy_cancer'])\n",
        "# df['Histological_type']=label_encoder.fit_transform(df['Histological_type'])\n",
        "# df['Location_of_cancer']=label_encoder.fit_transform(df['Location_of_cancer'])\n",
        "# df['stage_cancer']=label_encoder.fit_transform(df['stage_cancer'])\n",
        "# df['comorbidity']=label_encoder.fit_transform(df['comorbidity'])\n",
        "# df['Treatment_Regimen']=label_encoder.fit_transform(df['Treatment_Regimen'])\n",
        "# df['Status_Remission']=label_encoder.fit_transform(df['Status_Remission'])\n",
        "# df['Status']=label_encoder.fit_transform(df['Status'])\n",
        "# df['Age']=label_encoder.fit_transform(df['Age'])"
      ],
      "execution_count": null,
      "outputs": []
    },
    {
      "cell_type": "code",
      "metadata": {
        "id": "XkhsmfymbjGX"
      },
      "source": [
        "# encoded_data=df[['Status_Remission','Location_of_cancer','marital_status','Gender','Family_Histroy_cancer','Subsance_use','Treatment_Regimen','stage_cancer','occupation','Education','Age','comorbidity','Gender']]"
      ],
      "execution_count": null,
      "outputs": []
    },
    {
      "cell_type": "code",
      "metadata": {
        "id": "a6mGraAgcopt",
        "colab": {
          "base_uri": "https://localhost:8080/"
        },
        "outputId": "92f257e6-080b-4b84-d1c6-3543469df163"
      },
      "source": [
        "# encoded_data['Status_Remission'].unique()"
      ],
      "execution_count": null,
      "outputs": [
        {
          "output_type": "execute_result",
          "data": {
            "text/plain": [
              "array([0, 3, 1, 2])"
            ]
          },
          "metadata": {
            "tags": []
          },
          "execution_count": 38
        }
      ]
    },
    {
      "cell_type": "code",
      "metadata": {
        "id": "Q6oVxkvAh4pT",
        "colab": {
          "base_uri": "https://localhost:8080/"
        },
        "outputId": "619104a8-c85b-494b-bbb2-1bae22f43bee"
      },
      "source": [
        "# encoded_data.shape"
      ],
      "execution_count": null,
      "outputs": [
        {
          "output_type": "execute_result",
          "data": {
            "text/plain": [
              "(63, 13)"
            ]
          },
          "metadata": {
            "tags": []
          },
          "execution_count": 39
        }
      ]
    },
    {
      "cell_type": "code",
      "metadata": {
        "id": "jgWjXD8hdiwU"
      },
      "source": [
        "# Once dataset is loaded into a pandas data frame object, the first step is to divide dataset \n",
        "# into features and corresponding labels and then divide the resultant dataset into training and test sets. \n",
        "# The following code divides data into labels and feature set.\n",
        "# X = encoded_data.iloc[:, 1:14].values\n",
        "# y = encoded_data.iloc[:, 0].values"
      ],
      "execution_count": null,
      "outputs": []
    },
    {
      "cell_type": "code",
      "metadata": {
        "id": "vuDP9UMDiRRp"
      },
      "source": [
        "# Step 4: The following code divides data into training and test sets\n",
        "#\n",
        "# from sklearn.model_selection import train_test_split\n",
        "# X_train, X_test, y_train, y_test = train_test_split(X, y, test_size=0.2, random_state=0)"
      ],
      "execution_count": null,
      "outputs": []
    },
    {
      "cell_type": "code",
      "metadata": {
        "id": "tXvCJtMziX6L"
      },
      "source": [
        "# We now need to perform feature scaling. We execute the following code to do so:\n",
        "# \n",
        "# from sklearn.preprocessing import Normalizer\n",
        "# transformer = Normalizer().fit(X)\n"
      ],
      "execution_count": null,
      "outputs": []
    }
  ]
}