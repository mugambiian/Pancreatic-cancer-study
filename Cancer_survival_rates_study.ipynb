{
  "nbformat": 4,
  "nbformat_minor": 0,
  "metadata": {
    "colab": {
      "name": "Cancer survival rates study",
      "provenance": [],
      "include_colab_link": true
    },
    "kernelspec": {
      "name": "python3",
      "display_name": "Python 3"
    },
    "language_info": {
      "name": "python"
    }
  },
  "cells": [
    {
      "cell_type": "markdown",
      "metadata": {
        "id": "view-in-github",
        "colab_type": "text"
      },
      "source": [
        "<a href=\"https://colab.research.google.com/github/mugambiian/Pancreatic-cancer-study/blob/main/Cancer_survival_rates_study.ipynb\" target=\"_parent\"><img src=\"https://colab.research.google.com/assets/colab-badge.svg\" alt=\"Open In Colab\"/></a>"
      ]
    },
    {
      "cell_type": "markdown",
      "metadata": {
        "id": "yeEayAW3xsvh"
      },
      "source": [
        "**Pancreatic Cancer : A study of Kenyatta National Hospital**\n",
        "\n",
        "We will work as a Data Scientists to study pancreatic cancer cases among patients at Kenyatta National Hospital (KNH) and factors that influence cancer remission\n",
        "\n",
        "In an effort to do this, we need to identify some areas and periods of interest , then perform exploratory data analysis(EDA) and hypothesis testing with regards to the claim that we will have made.\n",
        "\n",
        "To work on this project, we will perform the following analysis with Python:\n",
        "\n",
        "-Find and deal with outliers, anomalies, and missing data within the dataset.\n",
        "Plot appropriate univariate and bivariate summaries recording our observations.\n",
        "-Implement the solution by performing hypothesis testing.\n",
        "The data set we are working on was collected at KNH in 2013\n",
        "\n",
        "We assume the data was collected in an accurate manner.\n",
        "\n"
      ]
    },
    {
      "cell_type": "markdown",
      "metadata": {
        "id": "sBbTNXMnXvhJ"
      },
      "source": [
        "Research hypothesis 1: Early detection of cancer will significantly increase remission  of pancreatic cancer compared to late detection \n",
        "\n",
        "H0 =There is no relationship between early detection of cancer and remission of cancer                                   \n",
        "\n",
        "H1 =There is a relationship between early detection of cancer and remission of cancer\n",
        "\n",
        "Research hypothesis 2: Presence of comorbidities will have a significant effect on the remission of pancreatic cancer compared to absence of comorbidities\n",
        "\n",
        "H0:  There is no relationship between presence of comorbidities and remission of cancer \n",
        "H1 = There is a relationship between presence of comorbidities and remission of cancer \n",
        "\n",
        "Research hypothesis 3: The Treatment regimen will have a significant effect on the remission of pancreatic cancer compared to absence of comorbidities\n",
        "\n",
        "H0:  There is no relationship between the treatment regimen and remission of cancer \n",
        "H1 = There is a relationship between the treatment reg and remission of cancer\n"
      ]
    },
    {
      "cell_type": "code",
      "metadata": {
        "id": "ZqY9ieZEC_R9"
      },
      "source": [
        "# Import Libraries\n",
        "import numpy as np\n",
        "import pandas as pd\n",
        "import matplotlib.pyplot as plt\n",
        "import seaborn as sns\n",
        "import scipy.stats as stat"
      ],
      "execution_count": null,
      "outputs": []
    },
    {
      "cell_type": "code",
      "metadata": {
        "colab": {
          "base_uri": "https://localhost:8080/"
        },
        "id": "ztlGvLieEn-f",
        "outputId": "9ca47eca-6c80-4d40-9c7f-dabe29c22261"
      },
      "source": [
        "# Load data\n",
        "df= pd.read_csv('/content/KNH_data var.csv')\n",
        "df.info()"
      ],
      "execution_count": null,
      "outputs": [
        {
          "output_type": "stream",
          "text": [
            "<class 'pandas.core.frame.DataFrame'>\n",
            "RangeIndex: 64 entries, 0 to 63\n",
            "Data columns (total 36 columns):\n",
            " #   Column                                     Non-Null Count  Dtype  \n",
            "---  ------                                     --------------  -----  \n",
            " 0   Card_No                                    64 non-null     int64  \n",
            " 1   Age                                        64 non-null     int64  \n",
            " 2   Gender                                     64 non-null     object \n",
            " 3   marital_status                             64 non-null     object \n",
            " 4   Education                                  64 non-null     object \n",
            " 5   occupation                                 64 non-null     object \n",
            " 6   Subsance_use                               64 non-null     object \n",
            " 7   Family_Histroy_cancer                      64 non-null     object \n",
            " 8   Histological_type                          64 non-null     object \n",
            " 9   Location_of_cancer                         64 non-null     object \n",
            " 10  stage_cancer                               64 non-null     object \n",
            " 11  comorbidity                                64 non-null     object \n",
            " 12  Hypertension                               64 non-null     object \n",
            " 13  RVD                                        64 non-null     object \n",
            " 14  DM                                         64 non-null     object \n",
            " 15  COPD                                       64 non-null     object \n",
            " 16  DVT                                        64 non-null     object \n",
            " 17  NO_comorbdity                              64 non-null     object \n",
            " 18  Treatment_Regimen                          64 non-null     object \n",
            " 19  Any_Regimen_change                         64 non-null     object \n",
            " 20  Types_of_chemo_regimen                     64 non-null     object \n",
            " 21  No_cycles_chemo                            64 non-null     object \n",
            " 22  Type_pallative_care                        64 non-null     object \n",
            " 23  No_drugs_given                             64 non-null     object \n",
            " 24  Size_Tumor                                 64 non-null     object \n",
            " 25  Tumor_markers                              64 non-null     object \n",
            " 26  Type_Tumor_markers                         64 non-null     object \n",
            " 27  Distant_Metastasis                         64 non-null     object \n",
            " 28  Site_Metastasis                            64 non-null     object \n",
            " 29  Status                                     64 non-null     object \n",
            " 30  Survival_time                              64 non-null     object \n",
            " 31  Metastasis_free_survival                   64 non-null     object \n",
            " 32  Cancer_specific_survival_after_Metastasis  64 non-null     object \n",
            " 33  Time_Recurrence                            64 non-null     object \n",
            " 34  Status_Remission                           64 non-null     object \n",
            " 35  Age_categories                             64 non-null     float64\n",
            "dtypes: float64(1), int64(2), object(33)\n",
            "memory usage: 18.1+ KB\n"
          ],
          "name": "stdout"
        }
      ]
    },
    {
      "cell_type": "code",
      "metadata": {
        "colab": {
          "base_uri": "https://localhost:8080/",
          "height": 398
        },
        "id": "I0CGvDE2KMVZ",
        "outputId": "dad906be-59a7-4d09-8308-007ffbb255fe"
      },
      "source": [
        "# Preview the head\n",
        "df.head()"
      ],
      "execution_count": null,
      "outputs": [
        {
          "output_type": "execute_result",
          "data": {
            "text/html": [
              "<div>\n",
              "<style scoped>\n",
              "    .dataframe tbody tr th:only-of-type {\n",
              "        vertical-align: middle;\n",
              "    }\n",
              "\n",
              "    .dataframe tbody tr th {\n",
              "        vertical-align: top;\n",
              "    }\n",
              "\n",
              "    .dataframe thead th {\n",
              "        text-align: right;\n",
              "    }\n",
              "</style>\n",
              "<table border=\"1\" class=\"dataframe\">\n",
              "  <thead>\n",
              "    <tr style=\"text-align: right;\">\n",
              "      <th></th>\n",
              "      <th>Card_No</th>\n",
              "      <th>Age</th>\n",
              "      <th>Gender</th>\n",
              "      <th>marital_status</th>\n",
              "      <th>Education</th>\n",
              "      <th>occupation</th>\n",
              "      <th>Subsance_use</th>\n",
              "      <th>Family_Histroy_cancer</th>\n",
              "      <th>Histological_type</th>\n",
              "      <th>Location_of_cancer</th>\n",
              "      <th>stage_cancer</th>\n",
              "      <th>comorbidity</th>\n",
              "      <th>Hypertension</th>\n",
              "      <th>RVD</th>\n",
              "      <th>DM</th>\n",
              "      <th>COPD</th>\n",
              "      <th>DVT</th>\n",
              "      <th>NO_comorbdity</th>\n",
              "      <th>Treatment_Regimen</th>\n",
              "      <th>Any_Regimen_change</th>\n",
              "      <th>Types_of_chemo_regimen</th>\n",
              "      <th>No_cycles_chemo</th>\n",
              "      <th>Type_pallative_care</th>\n",
              "      <th>No_drugs_given</th>\n",
              "      <th>Size_Tumor</th>\n",
              "      <th>Tumor_markers</th>\n",
              "      <th>Type_Tumor_markers</th>\n",
              "      <th>Distant_Metastasis</th>\n",
              "      <th>Site_Metastasis</th>\n",
              "      <th>Status</th>\n",
              "      <th>Survival_time</th>\n",
              "      <th>Metastasis_free_survival</th>\n",
              "      <th>Cancer_specific_survival_after_Metastasis</th>\n",
              "      <th>Time_Recurrence</th>\n",
              "      <th>Status_Remission</th>\n",
              "      <th>Age_categories</th>\n",
              "    </tr>\n",
              "  </thead>\n",
              "  <tbody>\n",
              "    <tr>\n",
              "      <th>0</th>\n",
              "      <td>1</td>\n",
              "      <td>66</td>\n",
              "      <td>female</td>\n",
              "      <td>married</td>\n",
              "      <td>illterate</td>\n",
              "      <td>unemployed</td>\n",
              "      <td>None</td>\n",
              "      <td>No</td>\n",
              "      <td>Adenocarcinoma</td>\n",
              "      <td>Head</td>\n",
              "      <td>stage II</td>\n",
              "      <td>absent</td>\n",
              "      <td></td>\n",
              "      <td></td>\n",
              "      <td></td>\n",
              "      <td></td>\n",
              "      <td></td>\n",
              "      <td>zero</td>\n",
              "      <td>surgery</td>\n",
              "      <td></td>\n",
              "      <td></td>\n",
              "      <td></td>\n",
              "      <td></td>\n",
              "      <td></td>\n",
              "      <td>Regressed</td>\n",
              "      <td>Absent</td>\n",
              "      <td></td>\n",
              "      <td>No</td>\n",
              "      <td></td>\n",
              "      <td>Censured(Survived or Unknown status)</td>\n",
              "      <td>4</td>\n",
              "      <td></td>\n",
              "      <td></td>\n",
              "      <td></td>\n",
              "      <td>Complete remission</td>\n",
              "      <td>2.0</td>\n",
              "    </tr>\n",
              "    <tr>\n",
              "      <th>1</th>\n",
              "      <td>2</td>\n",
              "      <td>39</td>\n",
              "      <td>male</td>\n",
              "      <td>married</td>\n",
              "      <td>teritary</td>\n",
              "      <td>private employee</td>\n",
              "      <td>smoking cigarette</td>\n",
              "      <td>No</td>\n",
              "      <td>Adenocarcinoma</td>\n",
              "      <td>Head</td>\n",
              "      <td>stage III</td>\n",
              "      <td>absent</td>\n",
              "      <td></td>\n",
              "      <td></td>\n",
              "      <td></td>\n",
              "      <td></td>\n",
              "      <td></td>\n",
              "      <td>zero</td>\n",
              "      <td>Pallative care</td>\n",
              "      <td></td>\n",
              "      <td></td>\n",
              "      <td></td>\n",
              "      <td>ERCP</td>\n",
              "      <td></td>\n",
              "      <td>Progressed</td>\n",
              "      <td>Absent</td>\n",
              "      <td></td>\n",
              "      <td>No</td>\n",
              "      <td></td>\n",
              "      <td>Censured(Survived or Unknown status)</td>\n",
              "      <td>10</td>\n",
              "      <td></td>\n",
              "      <td></td>\n",
              "      <td></td>\n",
              "      <td>Progression of the disease</td>\n",
              "      <td>1.0</td>\n",
              "    </tr>\n",
              "    <tr>\n",
              "      <th>2</th>\n",
              "      <td>3</td>\n",
              "      <td>80</td>\n",
              "      <td>female</td>\n",
              "      <td>widowed</td>\n",
              "      <td>illterate</td>\n",
              "      <td>unemployed</td>\n",
              "      <td>None</td>\n",
              "      <td>No</td>\n",
              "      <td>Adenocarcinoma</td>\n",
              "      <td>Head</td>\n",
              "      <td>stage III</td>\n",
              "      <td>present</td>\n",
              "      <td>yes</td>\n",
              "      <td>No</td>\n",
              "      <td>Yes</td>\n",
              "      <td></td>\n",
              "      <td>No</td>\n",
              "      <td>two</td>\n",
              "      <td>Pallative care</td>\n",
              "      <td></td>\n",
              "      <td></td>\n",
              "      <td></td>\n",
              "      <td>ERCP</td>\n",
              "      <td></td>\n",
              "      <td>Progressed</td>\n",
              "      <td>Absent</td>\n",
              "      <td></td>\n",
              "      <td>No</td>\n",
              "      <td></td>\n",
              "      <td>Censured(Survived or Unknown status)</td>\n",
              "      <td>4</td>\n",
              "      <td></td>\n",
              "      <td></td>\n",
              "      <td></td>\n",
              "      <td>Non-response</td>\n",
              "      <td>2.0</td>\n",
              "    </tr>\n",
              "    <tr>\n",
              "      <th>3</th>\n",
              "      <td>4</td>\n",
              "      <td>54</td>\n",
              "      <td>male</td>\n",
              "      <td>Divorced</td>\n",
              "      <td>teritary</td>\n",
              "      <td>private employee</td>\n",
              "      <td>None</td>\n",
              "      <td>No</td>\n",
              "      <td>Adenocarcinoma</td>\n",
              "      <td>Head</td>\n",
              "      <td>stage III</td>\n",
              "      <td>present</td>\n",
              "      <td>no</td>\n",
              "      <td>Yes</td>\n",
              "      <td>No</td>\n",
              "      <td></td>\n",
              "      <td>No</td>\n",
              "      <td>one</td>\n",
              "      <td>Chemotherapy</td>\n",
              "      <td>No</td>\n",
              "      <td>FOLFIRI</td>\n",
              "      <td>6</td>\n",
              "      <td></td>\n",
              "      <td>&lt;5</td>\n",
              "      <td>Regressed</td>\n",
              "      <td>Present</td>\n",
              "      <td>119</td>\n",
              "      <td>No</td>\n",
              "      <td></td>\n",
              "      <td>Censured(Survived or Unknown status)</td>\n",
              "      <td>84</td>\n",
              "      <td></td>\n",
              "      <td></td>\n",
              "      <td>7</td>\n",
              "      <td>Partial remission</td>\n",
              "      <td>1.0</td>\n",
              "    </tr>\n",
              "    <tr>\n",
              "      <th>4</th>\n",
              "      <td>5</td>\n",
              "      <td>62</td>\n",
              "      <td>male</td>\n",
              "      <td>married</td>\n",
              "      <td>illterate</td>\n",
              "      <td>unemployed</td>\n",
              "      <td>None</td>\n",
              "      <td>No</td>\n",
              "      <td>Adenocarcinoma</td>\n",
              "      <td>Tail</td>\n",
              "      <td>stage IV</td>\n",
              "      <td>absent</td>\n",
              "      <td></td>\n",
              "      <td></td>\n",
              "      <td></td>\n",
              "      <td></td>\n",
              "      <td></td>\n",
              "      <td>zero</td>\n",
              "      <td>Pallative care</td>\n",
              "      <td></td>\n",
              "      <td></td>\n",
              "      <td></td>\n",
              "      <td>Tramadol+plasil</td>\n",
              "      <td></td>\n",
              "      <td>Progressed</td>\n",
              "      <td>Present</td>\n",
              "      <td>999</td>\n",
              "      <td>Yes</td>\n",
              "      <td>liver</td>\n",
              "      <td>Censured(Survived or Unknown status)</td>\n",
              "      <td>1</td>\n",
              "      <td>1</td>\n",
              "      <td>1</td>\n",
              "      <td></td>\n",
              "      <td>Progression of the disease</td>\n",
              "      <td>2.0</td>\n",
              "    </tr>\n",
              "  </tbody>\n",
              "</table>\n",
              "</div>"
            ],
            "text/plain": [
              "   Card_No  Age  ...            Status_Remission Age_categories\n",
              "0        1   66  ...          Complete remission            2.0\n",
              "1        2   39  ...  Progression of the disease            1.0\n",
              "2        3   80  ...                Non-response            2.0\n",
              "3        4   54  ...           Partial remission            1.0\n",
              "4        5   62  ...  Progression of the disease            2.0\n",
              "\n",
              "[5 rows x 36 columns]"
            ]
          },
          "metadata": {
            "tags": []
          },
          "execution_count": 3
        }
      ]
    },
    {
      "cell_type": "markdown",
      "metadata": {
        "id": "U6UvnNAZ_WNe"
      },
      "source": [
        "## Data understanding"
      ]
    },
    {
      "cell_type": "markdown",
      "metadata": {
        "id": "SBGLJjLb_SIG"
      },
      "source": [
        "### Data cleaning"
      ]
    },
    {
      "cell_type": "code",
      "metadata": {
        "id": "3Fsu3o_ZRnbI",
        "colab": {
          "base_uri": "https://localhost:8080/",
          "height": 753
        },
        "outputId": "ac8e8440-4647-4e3f-f6a6-528656a45947"
      },
      "source": [
        "# Drop unneeded columns\n",
        "columns=['Card_No']\n",
        "df.drop(columns=columns)"
      ],
      "execution_count": null,
      "outputs": [
        {
          "output_type": "execute_result",
          "data": {
            "text/html": [
              "<div>\n",
              "<style scoped>\n",
              "    .dataframe tbody tr th:only-of-type {\n",
              "        vertical-align: middle;\n",
              "    }\n",
              "\n",
              "    .dataframe tbody tr th {\n",
              "        vertical-align: top;\n",
              "    }\n",
              "\n",
              "    .dataframe thead th {\n",
              "        text-align: right;\n",
              "    }\n",
              "</style>\n",
              "<table border=\"1\" class=\"dataframe\">\n",
              "  <thead>\n",
              "    <tr style=\"text-align: right;\">\n",
              "      <th></th>\n",
              "      <th>Age</th>\n",
              "      <th>Gender</th>\n",
              "      <th>marital_status</th>\n",
              "      <th>Education</th>\n",
              "      <th>occupation</th>\n",
              "      <th>Subsance_use</th>\n",
              "      <th>Family_Histroy_cancer</th>\n",
              "      <th>Histological_type</th>\n",
              "      <th>Location_of_cancer</th>\n",
              "      <th>stage_cancer</th>\n",
              "      <th>comorbidity</th>\n",
              "      <th>Hypertension</th>\n",
              "      <th>RVD</th>\n",
              "      <th>DM</th>\n",
              "      <th>COPD</th>\n",
              "      <th>DVT</th>\n",
              "      <th>NO_comorbdity</th>\n",
              "      <th>Treatment_Regimen</th>\n",
              "      <th>Any_Regimen_change</th>\n",
              "      <th>Types_of_chemo_regimen</th>\n",
              "      <th>No_cycles_chemo</th>\n",
              "      <th>Type_pallative_care</th>\n",
              "      <th>No_drugs_given</th>\n",
              "      <th>Size_Tumor</th>\n",
              "      <th>Tumor_markers</th>\n",
              "      <th>Type_Tumor_markers</th>\n",
              "      <th>Distant_Metastasis</th>\n",
              "      <th>Site_Metastasis</th>\n",
              "      <th>Status</th>\n",
              "      <th>Survival_time</th>\n",
              "      <th>Metastasis_free_survival</th>\n",
              "      <th>Cancer_specific_survival_after_Metastasis</th>\n",
              "      <th>Time_Recurrence</th>\n",
              "      <th>Status_Remission</th>\n",
              "      <th>Age_categories</th>\n",
              "    </tr>\n",
              "  </thead>\n",
              "  <tbody>\n",
              "    <tr>\n",
              "      <th>0</th>\n",
              "      <td>66</td>\n",
              "      <td>female</td>\n",
              "      <td>married</td>\n",
              "      <td>illterate</td>\n",
              "      <td>unemployed</td>\n",
              "      <td>None</td>\n",
              "      <td>No</td>\n",
              "      <td>Adenocarcinoma</td>\n",
              "      <td>Head</td>\n",
              "      <td>stage II</td>\n",
              "      <td>absent</td>\n",
              "      <td></td>\n",
              "      <td></td>\n",
              "      <td></td>\n",
              "      <td></td>\n",
              "      <td></td>\n",
              "      <td>zero</td>\n",
              "      <td>surgery</td>\n",
              "      <td></td>\n",
              "      <td></td>\n",
              "      <td></td>\n",
              "      <td></td>\n",
              "      <td></td>\n",
              "      <td>Regressed</td>\n",
              "      <td>Absent</td>\n",
              "      <td></td>\n",
              "      <td>No</td>\n",
              "      <td></td>\n",
              "      <td>Censured(Survived or Unknown status)</td>\n",
              "      <td>4</td>\n",
              "      <td></td>\n",
              "      <td></td>\n",
              "      <td></td>\n",
              "      <td>Complete remission</td>\n",
              "      <td>2.0</td>\n",
              "    </tr>\n",
              "    <tr>\n",
              "      <th>1</th>\n",
              "      <td>39</td>\n",
              "      <td>male</td>\n",
              "      <td>married</td>\n",
              "      <td>teritary</td>\n",
              "      <td>private employee</td>\n",
              "      <td>smoking cigarette</td>\n",
              "      <td>No</td>\n",
              "      <td>Adenocarcinoma</td>\n",
              "      <td>Head</td>\n",
              "      <td>stage III</td>\n",
              "      <td>absent</td>\n",
              "      <td></td>\n",
              "      <td></td>\n",
              "      <td></td>\n",
              "      <td></td>\n",
              "      <td></td>\n",
              "      <td>zero</td>\n",
              "      <td>Pallative care</td>\n",
              "      <td></td>\n",
              "      <td></td>\n",
              "      <td></td>\n",
              "      <td>ERCP</td>\n",
              "      <td></td>\n",
              "      <td>Progressed</td>\n",
              "      <td>Absent</td>\n",
              "      <td></td>\n",
              "      <td>No</td>\n",
              "      <td></td>\n",
              "      <td>Censured(Survived or Unknown status)</td>\n",
              "      <td>10</td>\n",
              "      <td></td>\n",
              "      <td></td>\n",
              "      <td></td>\n",
              "      <td>Progression of the disease</td>\n",
              "      <td>1.0</td>\n",
              "    </tr>\n",
              "    <tr>\n",
              "      <th>2</th>\n",
              "      <td>80</td>\n",
              "      <td>female</td>\n",
              "      <td>widowed</td>\n",
              "      <td>illterate</td>\n",
              "      <td>unemployed</td>\n",
              "      <td>None</td>\n",
              "      <td>No</td>\n",
              "      <td>Adenocarcinoma</td>\n",
              "      <td>Head</td>\n",
              "      <td>stage III</td>\n",
              "      <td>present</td>\n",
              "      <td>yes</td>\n",
              "      <td>No</td>\n",
              "      <td>Yes</td>\n",
              "      <td></td>\n",
              "      <td>No</td>\n",
              "      <td>two</td>\n",
              "      <td>Pallative care</td>\n",
              "      <td></td>\n",
              "      <td></td>\n",
              "      <td></td>\n",
              "      <td>ERCP</td>\n",
              "      <td></td>\n",
              "      <td>Progressed</td>\n",
              "      <td>Absent</td>\n",
              "      <td></td>\n",
              "      <td>No</td>\n",
              "      <td></td>\n",
              "      <td>Censured(Survived or Unknown status)</td>\n",
              "      <td>4</td>\n",
              "      <td></td>\n",
              "      <td></td>\n",
              "      <td></td>\n",
              "      <td>Non-response</td>\n",
              "      <td>2.0</td>\n",
              "    </tr>\n",
              "    <tr>\n",
              "      <th>3</th>\n",
              "      <td>54</td>\n",
              "      <td>male</td>\n",
              "      <td>Divorced</td>\n",
              "      <td>teritary</td>\n",
              "      <td>private employee</td>\n",
              "      <td>None</td>\n",
              "      <td>No</td>\n",
              "      <td>Adenocarcinoma</td>\n",
              "      <td>Head</td>\n",
              "      <td>stage III</td>\n",
              "      <td>present</td>\n",
              "      <td>no</td>\n",
              "      <td>Yes</td>\n",
              "      <td>No</td>\n",
              "      <td></td>\n",
              "      <td>No</td>\n",
              "      <td>one</td>\n",
              "      <td>Chemotherapy</td>\n",
              "      <td>No</td>\n",
              "      <td>FOLFIRI</td>\n",
              "      <td>6</td>\n",
              "      <td></td>\n",
              "      <td>&lt;5</td>\n",
              "      <td>Regressed</td>\n",
              "      <td>Present</td>\n",
              "      <td>119</td>\n",
              "      <td>No</td>\n",
              "      <td></td>\n",
              "      <td>Censured(Survived or Unknown status)</td>\n",
              "      <td>84</td>\n",
              "      <td></td>\n",
              "      <td></td>\n",
              "      <td>7</td>\n",
              "      <td>Partial remission</td>\n",
              "      <td>1.0</td>\n",
              "    </tr>\n",
              "    <tr>\n",
              "      <th>4</th>\n",
              "      <td>62</td>\n",
              "      <td>male</td>\n",
              "      <td>married</td>\n",
              "      <td>illterate</td>\n",
              "      <td>unemployed</td>\n",
              "      <td>None</td>\n",
              "      <td>No</td>\n",
              "      <td>Adenocarcinoma</td>\n",
              "      <td>Tail</td>\n",
              "      <td>stage IV</td>\n",
              "      <td>absent</td>\n",
              "      <td></td>\n",
              "      <td></td>\n",
              "      <td></td>\n",
              "      <td></td>\n",
              "      <td></td>\n",
              "      <td>zero</td>\n",
              "      <td>Pallative care</td>\n",
              "      <td></td>\n",
              "      <td></td>\n",
              "      <td></td>\n",
              "      <td>Tramadol+plasil</td>\n",
              "      <td></td>\n",
              "      <td>Progressed</td>\n",
              "      <td>Present</td>\n",
              "      <td>999</td>\n",
              "      <td>Yes</td>\n",
              "      <td>liver</td>\n",
              "      <td>Censured(Survived or Unknown status)</td>\n",
              "      <td>1</td>\n",
              "      <td>1</td>\n",
              "      <td>1</td>\n",
              "      <td></td>\n",
              "      <td>Progression of the disease</td>\n",
              "      <td>2.0</td>\n",
              "    </tr>\n",
              "    <tr>\n",
              "      <th>...</th>\n",
              "      <td>...</td>\n",
              "      <td>...</td>\n",
              "      <td>...</td>\n",
              "      <td>...</td>\n",
              "      <td>...</td>\n",
              "      <td>...</td>\n",
              "      <td>...</td>\n",
              "      <td>...</td>\n",
              "      <td>...</td>\n",
              "      <td>...</td>\n",
              "      <td>...</td>\n",
              "      <td>...</td>\n",
              "      <td>...</td>\n",
              "      <td>...</td>\n",
              "      <td>...</td>\n",
              "      <td>...</td>\n",
              "      <td>...</td>\n",
              "      <td>...</td>\n",
              "      <td>...</td>\n",
              "      <td>...</td>\n",
              "      <td>...</td>\n",
              "      <td>...</td>\n",
              "      <td>...</td>\n",
              "      <td>...</td>\n",
              "      <td>...</td>\n",
              "      <td>...</td>\n",
              "      <td>...</td>\n",
              "      <td>...</td>\n",
              "      <td>...</td>\n",
              "      <td>...</td>\n",
              "      <td>...</td>\n",
              "      <td>...</td>\n",
              "      <td>...</td>\n",
              "      <td>...</td>\n",
              "      <td>...</td>\n",
              "    </tr>\n",
              "    <tr>\n",
              "      <th>59</th>\n",
              "      <td>73</td>\n",
              "      <td>female</td>\n",
              "      <td>married</td>\n",
              "      <td>secondary</td>\n",
              "      <td>unemployed</td>\n",
              "      <td>None</td>\n",
              "      <td>No</td>\n",
              "      <td>Adenocarcinoma</td>\n",
              "      <td>Tail</td>\n",
              "      <td>stage III</td>\n",
              "      <td>present</td>\n",
              "      <td>yes</td>\n",
              "      <td>No</td>\n",
              "      <td>No</td>\n",
              "      <td>No</td>\n",
              "      <td>No</td>\n",
              "      <td>one</td>\n",
              "      <td>Treatment refusal/missing regimen</td>\n",
              "      <td></td>\n",
              "      <td></td>\n",
              "      <td></td>\n",
              "      <td></td>\n",
              "      <td></td>\n",
              "      <td>Progressed</td>\n",
              "      <td>Absent</td>\n",
              "      <td></td>\n",
              "      <td>No</td>\n",
              "      <td></td>\n",
              "      <td>Censured(Survived or Unknown status)</td>\n",
              "      <td>6</td>\n",
              "      <td></td>\n",
              "      <td></td>\n",
              "      <td></td>\n",
              "      <td>Progression of the disease</td>\n",
              "      <td>2.0</td>\n",
              "    </tr>\n",
              "    <tr>\n",
              "      <th>60</th>\n",
              "      <td>78</td>\n",
              "      <td>female</td>\n",
              "      <td>widowed</td>\n",
              "      <td>secondary</td>\n",
              "      <td>unemployed</td>\n",
              "      <td>None</td>\n",
              "      <td>No</td>\n",
              "      <td>Adenocarcinoma</td>\n",
              "      <td>Head</td>\n",
              "      <td>stage IV</td>\n",
              "      <td>present</td>\n",
              "      <td>yes</td>\n",
              "      <td>No</td>\n",
              "      <td>No</td>\n",
              "      <td>No</td>\n",
              "      <td>No</td>\n",
              "      <td>one</td>\n",
              "      <td>Pallative care</td>\n",
              "      <td></td>\n",
              "      <td></td>\n",
              "      <td></td>\n",
              "      <td>Tramadol+plasil+vit K</td>\n",
              "      <td></td>\n",
              "      <td>Progressed</td>\n",
              "      <td>Present</td>\n",
              "      <td>315</td>\n",
              "      <td>Yes</td>\n",
              "      <td>liver</td>\n",
              "      <td>death</td>\n",
              "      <td>10</td>\n",
              "      <td>6</td>\n",
              "      <td>4</td>\n",
              "      <td></td>\n",
              "      <td>Progression of the disease</td>\n",
              "      <td>2.0</td>\n",
              "    </tr>\n",
              "    <tr>\n",
              "      <th>61</th>\n",
              "      <td>83</td>\n",
              "      <td>male</td>\n",
              "      <td>married</td>\n",
              "      <td>teritary</td>\n",
              "      <td>retired</td>\n",
              "      <td>Alcohol</td>\n",
              "      <td>No</td>\n",
              "      <td>Adenocarcinoma</td>\n",
              "      <td>Head</td>\n",
              "      <td>stage IV</td>\n",
              "      <td>present</td>\n",
              "      <td>no</td>\n",
              "      <td>No</td>\n",
              "      <td>Yes</td>\n",
              "      <td>No</td>\n",
              "      <td>No</td>\n",
              "      <td>one</td>\n",
              "      <td>Pallative care</td>\n",
              "      <td></td>\n",
              "      <td></td>\n",
              "      <td></td>\n",
              "      <td>ERCP</td>\n",
              "      <td></td>\n",
              "      <td>Progressed</td>\n",
              "      <td>Absent</td>\n",
              "      <td></td>\n",
              "      <td>Yes</td>\n",
              "      <td>liver</td>\n",
              "      <td>Censured(Survived or Unknown status)</td>\n",
              "      <td>13</td>\n",
              "      <td>8</td>\n",
              "      <td>5</td>\n",
              "      <td></td>\n",
              "      <td>Progression of the disease</td>\n",
              "      <td>2.0</td>\n",
              "    </tr>\n",
              "    <tr>\n",
              "      <th>62</th>\n",
              "      <td>85</td>\n",
              "      <td>female</td>\n",
              "      <td>widowed</td>\n",
              "      <td>teritary</td>\n",
              "      <td>retired</td>\n",
              "      <td>None</td>\n",
              "      <td>No</td>\n",
              "      <td>Adenocarcinoma</td>\n",
              "      <td>Head</td>\n",
              "      <td>stage III</td>\n",
              "      <td>absent</td>\n",
              "      <td></td>\n",
              "      <td></td>\n",
              "      <td></td>\n",
              "      <td></td>\n",
              "      <td></td>\n",
              "      <td>zero</td>\n",
              "      <td>Chemotherapy</td>\n",
              "      <td>No</td>\n",
              "      <td>FOLFRINOX</td>\n",
              "      <td>7</td>\n",
              "      <td></td>\n",
              "      <td>&lt;5</td>\n",
              "      <td>No Change</td>\n",
              "      <td>Absent</td>\n",
              "      <td></td>\n",
              "      <td></td>\n",
              "      <td></td>\n",
              "      <td>Censured(Survived or Unknown status)</td>\n",
              "      <td>9</td>\n",
              "      <td></td>\n",
              "      <td></td>\n",
              "      <td></td>\n",
              "      <td>Progression of the disease</td>\n",
              "      <td>2.0</td>\n",
              "    </tr>\n",
              "    <tr>\n",
              "      <th>63</th>\n",
              "      <td>75</td>\n",
              "      <td>female</td>\n",
              "      <td>married</td>\n",
              "      <td>secondary</td>\n",
              "      <td>unemployed</td>\n",
              "      <td>None</td>\n",
              "      <td>No</td>\n",
              "      <td>Adenocarcinoma</td>\n",
              "      <td>Head</td>\n",
              "      <td>stage IV</td>\n",
              "      <td>present</td>\n",
              "      <td>no</td>\n",
              "      <td>No</td>\n",
              "      <td>Yes</td>\n",
              "      <td>No</td>\n",
              "      <td>No</td>\n",
              "      <td>one</td>\n",
              "      <td>Pallative care</td>\n",
              "      <td></td>\n",
              "      <td></td>\n",
              "      <td></td>\n",
              "      <td>ERCP</td>\n",
              "      <td></td>\n",
              "      <td>Progressed</td>\n",
              "      <td>Absent</td>\n",
              "      <td></td>\n",
              "      <td>Yes</td>\n",
              "      <td>spleen</td>\n",
              "      <td>death</td>\n",
              "      <td>11</td>\n",
              "      <td>7</td>\n",
              "      <td>4</td>\n",
              "      <td></td>\n",
              "      <td>Progression of the disease</td>\n",
              "      <td>2.0</td>\n",
              "    </tr>\n",
              "  </tbody>\n",
              "</table>\n",
              "<p>63 rows × 35 columns</p>\n",
              "</div>"
            ],
            "text/plain": [
              "    Age  Gender  ...            Status_Remission Age_categories\n",
              "0    66  female  ...          Complete remission            2.0\n",
              "1    39    male  ...  Progression of the disease            1.0\n",
              "2    80  female  ...                Non-response            2.0\n",
              "3    54    male  ...           Partial remission            1.0\n",
              "4    62    male  ...  Progression of the disease            2.0\n",
              "..  ...     ...  ...                         ...            ...\n",
              "59   73  female  ...  Progression of the disease            2.0\n",
              "60   78  female  ...  Progression of the disease            2.0\n",
              "61   83    male  ...  Progression of the disease            2.0\n",
              "62   85  female  ...  Progression of the disease            2.0\n",
              "63   75  female  ...  Progression of the disease            2.0\n",
              "\n",
              "[63 rows x 35 columns]"
            ]
          },
          "metadata": {
            "tags": []
          },
          "execution_count": 58
        }
      ]
    },
    {
      "cell_type": "code",
      "metadata": {
        "colab": {
          "base_uri": "https://localhost:8080/"
        },
        "id": "AuHr8NACpwsR",
        "outputId": "d4718ecc-eb03-4b16-ccc4-52b747722590"
      },
      "source": [
        "# Checking for missing values\n",
        "df.isnull().value_counts()"
      ],
      "execution_count": null,
      "outputs": [
        {
          "output_type": "execute_result",
          "data": {
            "text/plain": [
              "Card_No  Age    Gender  marital_status  Education  occupation  Subsance_use  Family_Histroy_cancer  Histological_type  Location_of_cancer  stage_cancer  comorbidity  Hypertension  RVD    DM     COPD   DVT    NO_comorbdity  Treatment_Regimen  Any_Regimen_change  Types_of_chemo_regimen  No_cycles_chemo  Type_pallative_care  No_drugs_given  Size_Tumor  Tumor_markers  Type_Tumor_markers  Distant_Metastasis  Site_Metastasis  Status  Survival_time  Metastasis_free_survival  Cancer_specific_survival_after_Metastasis  Time_Recurrence  Status_Remission  Age_categories\n",
              "False    False  False   False           False      False       False         False                  False              False               False         False        False         False  False  False  False  False          False              False               False                   False            False                False           False       False          False               False               False            False   False          False                     False                                      False            False             False             64\n",
              "dtype: int64"
            ]
          },
          "metadata": {
            "tags": []
          },
          "execution_count": 4
        }
      ]
    },
    {
      "cell_type": "code",
      "metadata": {
        "id": "5ONBc8ZatihM"
      },
      "source": [
        "# After passing through the data we got an anomaly at status remission \n",
        "# we Drop that anomaly\n",
        "df.drop(df.loc[df['Status_Remission']=='.'].index, inplace=True)"
      ],
      "execution_count": null,
      "outputs": []
    },
    {
      "cell_type": "code",
      "metadata": {
        "colab": {
          "base_uri": "https://localhost:8080/"
        },
        "id": "cC62yHTmgVxi",
        "outputId": "d790dc83-5c2c-40dc-f351-c37f8ac9b211"
      },
      "source": [
        "# Check unique values\n",
        "df['Status_Remission'].nunique()"
      ],
      "execution_count": null,
      "outputs": [
        {
          "output_type": "execute_result",
          "data": {
            "text/plain": [
              "4"
            ]
          },
          "metadata": {
            "tags": []
          },
          "execution_count": 6
        }
      ]
    },
    {
      "cell_type": "markdown",
      "metadata": {
        "id": "c1CB7-vLAuQ6"
      },
      "source": [
        "## Explatory Data Analysis"
      ]
    },
    {
      "cell_type": "markdown",
      "metadata": {
        "id": "gBOL9VFQuFS2"
      },
      "source": [
        "### Univariate analysis"
      ]
    },
    {
      "cell_type": "code",
      "metadata": {
        "colab": {
          "base_uri": "https://localhost:8080/"
        },
        "id": "Oc_i1SPzuT3e",
        "outputId": "41001693-802b-48de-dfdb-bb04b91090a7"
      },
      "source": [
        "# Age \n",
        "df['Age'].describe()\n",
        "\n",
        "# mean age is around 60. older people affected\n",
        "# std dev, means variation is high"
      ],
      "execution_count": null,
      "outputs": [
        {
          "output_type": "execute_result",
          "data": {
            "text/plain": [
              "count    63.000000\n",
              "mean     60.698413\n",
              "std      12.445539\n",
              "min      32.000000\n",
              "25%      53.000000\n",
              "50%      60.000000\n",
              "75%      70.000000\n",
              "max      85.000000\n",
              "Name: Age, dtype: float64"
            ]
          },
          "metadata": {
            "tags": []
          },
          "execution_count": 7
        }
      ]
    },
    {
      "cell_type": "code",
      "metadata": {
        "colab": {
          "base_uri": "https://localhost:8080/",
          "height": 313
        },
        "id": "JMsB5yfwuErR",
        "outputId": "377d92f0-69b9-459d-d98a-29e00e3b0f57"
      },
      "source": [
        "# Check age distribution\n",
        "age=df['Age']\n",
        "#print(age)\n",
        "age.plot(kind='hist',bins=5)\n",
        "plt.xlabel('Age')\n",
        "plt.title('Age Distribution')\n",
        "# Data seems nomarlized"
      ],
      "execution_count": null,
      "outputs": [
        {
          "output_type": "execute_result",
          "data": {
            "text/plain": [
              "Text(0.5, 1.0, 'Age Distribution')"
            ]
          },
          "metadata": {
            "tags": []
          },
          "execution_count": 77
        },
        {
          "output_type": "display_data",
          "data": {
            "image/png": "[encoded data removed]",
            "text/plain": [
              "<Figure size 432x288 with 1 Axes>"
            ]
          },
          "metadata": {
            "tags": [],
            "needs_background": "light"
          }
        }
      ]
    },
    {
      "cell_type": "code",
      "metadata": {
        "colab": {
          "base_uri": "https://localhost:8080/",
          "height": 421
        },
        "id": "oIxBvJXSM-jv",
        "outputId": "7b88b381-61ca-4a76-f7d0-d9b884929ec3"
      },
      "source": [
        "# Bar graphs on cancer stages\n",
        "stage=df['stage_cancer'].value_counts()\n",
        "print(stage)\n",
        "stage.plot(kind='bar')\n",
        "plt.ylabel('Number of Patients')\n",
        "plt.title('Cancer stages')\n",
        "# Stage 3 and 4 comprise majority of the diagnosed stages"
      ],
      "execution_count": null,
      "outputs": [
        {
          "output_type": "stream",
          "text": [
            "stage III    32\n",
            "stage IV     23\n",
            "stage II      5\n",
            "stage I       3\n",
            "Name: stage_cancer, dtype: int64\n"
          ],
          "name": "stdout"
        },
        {
          "output_type": "execute_result",
          "data": {
            "text/plain": [
              "Text(0.5, 1.0, 'Cancer stages')"
            ]
          },
          "metadata": {
            "tags": []
          },
          "execution_count": 9
        },
        {
          "output_type": "display_data",
          "data": {
            "image/png": "[encoded data removed]",
            "text/plain": [
              "<Figure size 432x288 with 1 Axes>"
            ]
          },
          "metadata": {
            "tags": [],
            "needs_background": "light"
          }
        }
      ]
    },
    {
      "cell_type": "code",
      "metadata": {
        "colab": {
          "base_uri": "https://localhost:8080/",
          "height": 313
        },
        "id": "bF2jDYWGNbjo",
        "outputId": "691d0ce0-ec6e-41d3-927b-ee977d4e4580"
      },
      "source": [
        "# Treatment regimen bar graphs\n",
        "treatment=df['Treatment_Regimen'].value_counts()\n",
        "print(treatment)\n",
        "treatment.plot(kind='barh')\n",
        "plt.xlabel('Number of Patients')\n",
        "plt.title('Treatment regimen Administered#')\n",
        "\n",
        "# Pallative care and chemotherapy are the most used treatment plans\n",
        "# Two subjects refused treatment"
      ],
      "execution_count": null,
      "outputs": [
        {
          "output_type": "execute_result",
          "data": {
            "text/plain": [
              "Text(0.5, 1.0, 'Treatment regimen Administered#')"
            ]
          },
          "metadata": {
            "tags": []
          },
          "execution_count": 80
        },
        {
          "output_type": "display_data",
          "data": {
            "image/png": "[encoded data removed]",
            "text/plain": [
              "<Figure size 432x288 with 1 Axes>"
            ]
          },
          "metadata": {
            "tags": [],
            "needs_background": "light"
          }
        }
      ]
    },
    {
      "cell_type": "code",
      "metadata": {
        "colab": {
          "base_uri": "https://localhost:8080/",
          "height": 373
        },
        "id": "tahylUyaaSuz",
        "outputId": "18fd6209-2cdd-484a-9df8-9c7e5850a8fe"
      },
      "source": [
        "# Marital status\n",
        "fhc=df['marital_status'].value_counts()\n",
        "print(fhc)\n",
        "fhc.plot(kind='pie',autopct='%1.0f%%')\n",
        "plt.ylabel('Number of patients')\n",
        "plt.title('Substance abuse')"
      ],
      "execution_count": null,
      "outputs": [
        {
          "output_type": "stream",
          "text": [
            "married     48\n",
            "widowed      8\n",
            "Divorced     4\n",
            "single       3\n",
            "Name: marital_status, dtype: int64\n"
          ],
          "name": "stdout"
        },
        {
          "output_type": "execute_result",
          "data": {
            "text/plain": [
              "Text(0.5, 1.0, 'Substance abuse')"
            ]
          },
          "metadata": {
            "tags": []
          },
          "execution_count": 76
        },
        {
          "output_type": "display_data",
          "data": {
            "image/png": "[encoded data removed]",
            "text/plain": [
              "<Figure size 432x288 with 1 Axes>"
            ]
          },
          "metadata": {
            "tags": []
          }
        }
      ]
    },
    {
      "cell_type": "code",
      "metadata": {
        "colab": {
          "base_uri": "https://localhost:8080/",
          "height": 372
        },
        "id": "fXiRQN3IYhMB",
        "outputId": "715925e2-057f-4b50-fb02-d5107997d15a"
      },
      "source": [
        "# Substance abuse\n",
        "fhc=df['Subsance_use'].value_counts()\n",
        "print(fhc)\n",
        "fhc.plot(kind='barh')\n",
        "plt.ylabel('Number of patients')\n",
        "plt.title('Substance abuse')"
      ],
      "execution_count": null,
      "outputs": [
        {
          "output_type": "stream",
          "text": [
            "None                 41\n",
            "Alcohol              13\n",
            "smoking cigarette     9\n",
            "Name: Subsance_use, dtype: int64\n"
          ],
          "name": "stdout"
        },
        {
          "output_type": "execute_result",
          "data": {
            "text/plain": [
              "Text(0.5, 1.0, 'Substance abuse')"
            ]
          },
          "metadata": {
            "tags": []
          },
          "execution_count": 65
        },
        {
          "output_type": "display_data",
          "data": {
            "image/png": "[encoded data removed]",
            "text/plain": [
              "<Figure size 432x288 with 1 Axes>"
            ]
          },
          "metadata": {
            "tags": [],
            "needs_background": "light"
          }
        }
      ]
    },
    {
      "cell_type": "code",
      "metadata": {
        "colab": {
          "base_uri": "https://localhost:8080/",
          "height": 379
        },
        "id": "rc_2a1DDNiL8",
        "outputId": "1b0e1859-073b-4db9-9cd7-af168923ea8c"
      },
      "source": [
        "# Gender bargraph\n",
        "gender=df['Gender'].value_counts()\n",
        "print(gender)\n",
        "gender.plot(kind='bar')\n",
        "plt.ylabel('Number of patients')\n",
        "plt.title('Gender distributions')\n",
        "# the gender distribution is 34 Females abd 30 males"
      ],
      "execution_count": null,
      "outputs": [
        {
          "output_type": "stream",
          "text": [
            "female    34\n",
            "male      29\n",
            "Name: Gender, dtype: int64\n"
          ],
          "name": "stdout"
        },
        {
          "output_type": "execute_result",
          "data": {
            "text/plain": [
              "Text(0.5, 1.0, 'Gender distributions')"
            ]
          },
          "metadata": {
            "tags": []
          },
          "execution_count": 41
        },
        {
          "output_type": "display_data",
          "data": {
            "image/png": "[encoded data removed]",
            "text/plain": [
              "<Figure size 432x288 with 1 Axes>"
            ]
          },
          "metadata": {
            "tags": [],
            "needs_background": "light"
          }
        }
      ]
    },
    {
      "cell_type": "code",
      "metadata": {
        "colab": {
          "base_uri": "https://localhost:8080/",
          "height": 382
        },
        "id": "y2FETgYxNpjq",
        "outputId": "432ab04b-a93f-4dad-96ea-8ecef007dff7"
      },
      "source": [
        "# Presence of comorbidity\n",
        "commobidity=df['comorbidity'].value_counts()\n",
        "print(commobidity)\n",
        "commobidity.plot(kind='bar')\n",
        "plt.ylabel('Number of Patients')\n",
        "plt.title('Commorbidity frequency among patients')\n",
        "# Equal number of commorbidity presence and absence in the data"
      ],
      "execution_count": null,
      "outputs": [
        {
          "output_type": "stream",
          "text": [
            "present    32\n",
            "absent     31\n",
            "Name: comorbidity, dtype: int64\n"
          ],
          "name": "stdout"
        },
        {
          "output_type": "execute_result",
          "data": {
            "text/plain": [
              "Text(0.5, 1.0, 'Commorbidity frequency among patients')"
            ]
          },
          "metadata": {
            "tags": []
          },
          "execution_count": 40
        },
        {
          "output_type": "display_data",
          "data": {
            "image/png": "[encoded data removed]",
            "text/plain": [
              "<Figure size 432x288 with 1 Axes>"
            ]
          },
          "metadata": {
            "tags": [],
            "needs_background": "light"
          }
        }
      ]
    },
    {
      "cell_type": "code",
      "metadata": {
        "colab": {
          "base_uri": "https://localhost:8080/"
        },
        "id": "fi795HOEPITP",
        "outputId": "80bcbff3-97ef-4786-f3b8-a66a950b6bf7"
      },
      "source": [
        "# SKewness and kurtosis\n",
        "skw=df['Age'].skew()\n",
        "print('skewness= ',skw)\n",
        "krt=df['Age'].kurt()\n",
        "print('kurtosis= ',krt)\n",
        "\n",
        "# we notice a weak negative skewness and kurtosis\n",
        "# This i"
      ],
      "execution_count": null,
      "outputs": [
        {
          "output_type": "stream",
          "text": [
            "skewness=  -0.10943829265637581\n",
            "kurtosis=  -0.30923030832417764\n"
          ],
          "name": "stdout"
        }
      ]
    },
    {
      "cell_type": "markdown",
      "metadata": {
        "id": "SekwrwZRP6fk"
      },
      "source": [
        "### Bivariate Analysis"
      ]
    },
    {
      "cell_type": "code",
      "metadata": {
        "colab": {
          "base_uri": "https://localhost:8080/",
          "height": 398
        },
        "id": "n0-1kcIYXFpc",
        "outputId": "b383df94-753f-4e6c-a343-cc8f6e331450"
      },
      "source": [
        "# Preview of the dataset\n",
        "df[:5]"
      ],
      "execution_count": null,
      "outputs": [
        {
          "output_type": "execute_result",
          "data": {
            "text/html": [
              "<div>\n",
              "<style scoped>\n",
              "    .dataframe tbody tr th:only-of-type {\n",
              "        vertical-align: middle;\n",
              "    }\n",
              "\n",
              "    .dataframe tbody tr th {\n",
              "        vertical-align: top;\n",
              "    }\n",
              "\n",
              "    .dataframe thead th {\n",
              "        text-align: right;\n",
              "    }\n",
              "</style>\n",
              "<table border=\"1\" class=\"dataframe\">\n",
              "  <thead>\n",
              "    <tr style=\"text-align: right;\">\n",
              "      <th></th>\n",
              "      <th>Card_No</th>\n",
              "      <th>Age</th>\n",
              "      <th>Gender</th>\n",
              "      <th>marital_status</th>\n",
              "      <th>Education</th>\n",
              "      <th>occupation</th>\n",
              "      <th>Subsance_use</th>\n",
              "      <th>Family_Histroy_cancer</th>\n",
              "      <th>Histological_type</th>\n",
              "      <th>Location_of_cancer</th>\n",
              "      <th>stage_cancer</th>\n",
              "      <th>comorbidity</th>\n",
              "      <th>Hypertension</th>\n",
              "      <th>RVD</th>\n",
              "      <th>DM</th>\n",
              "      <th>COPD</th>\n",
              "      <th>DVT</th>\n",
              "      <th>NO_comorbdity</th>\n",
              "      <th>Treatment_Regimen</th>\n",
              "      <th>Any_Regimen_change</th>\n",
              "      <th>Types_of_chemo_regimen</th>\n",
              "      <th>No_cycles_chemo</th>\n",
              "      <th>Type_pallative_care</th>\n",
              "      <th>No_drugs_given</th>\n",
              "      <th>Size_Tumor</th>\n",
              "      <th>Tumor_markers</th>\n",
              "      <th>Type_Tumor_markers</th>\n",
              "      <th>Distant_Metastasis</th>\n",
              "      <th>Site_Metastasis</th>\n",
              "      <th>Status</th>\n",
              "      <th>Survival_time</th>\n",
              "      <th>Metastasis_free_survival</th>\n",
              "      <th>Cancer_specific_survival_after_Metastasis</th>\n",
              "      <th>Time_Recurrence</th>\n",
              "      <th>Status_Remission</th>\n",
              "      <th>Age_categories</th>\n",
              "    </tr>\n",
              "  </thead>\n",
              "  <tbody>\n",
              "    <tr>\n",
              "      <th>0</th>\n",
              "      <td>1</td>\n",
              "      <td>66</td>\n",
              "      <td>female</td>\n",
              "      <td>married</td>\n",
              "      <td>illterate</td>\n",
              "      <td>unemployed</td>\n",
              "      <td>None</td>\n",
              "      <td>No</td>\n",
              "      <td>Adenocarcinoma</td>\n",
              "      <td>Head</td>\n",
              "      <td>stage II</td>\n",
              "      <td>absent</td>\n",
              "      <td></td>\n",
              "      <td></td>\n",
              "      <td></td>\n",
              "      <td></td>\n",
              "      <td></td>\n",
              "      <td>zero</td>\n",
              "      <td>surgery</td>\n",
              "      <td></td>\n",
              "      <td></td>\n",
              "      <td></td>\n",
              "      <td></td>\n",
              "      <td></td>\n",
              "      <td>Regressed</td>\n",
              "      <td>Absent</td>\n",
              "      <td></td>\n",
              "      <td>No</td>\n",
              "      <td></td>\n",
              "      <td>Censured(Survived or Unknown status)</td>\n",
              "      <td>4</td>\n",
              "      <td></td>\n",
              "      <td></td>\n",
              "      <td></td>\n",
              "      <td>Complete remission</td>\n",
              "      <td>2.0</td>\n",
              "    </tr>\n",
              "    <tr>\n",
              "      <th>1</th>\n",
              "      <td>2</td>\n",
              "      <td>39</td>\n",
              "      <td>male</td>\n",
              "      <td>married</td>\n",
              "      <td>teritary</td>\n",
              "      <td>private employee</td>\n",
              "      <td>smoking cigarette</td>\n",
              "      <td>No</td>\n",
              "      <td>Adenocarcinoma</td>\n",
              "      <td>Head</td>\n",
              "      <td>stage III</td>\n",
              "      <td>absent</td>\n",
              "      <td></td>\n",
              "      <td></td>\n",
              "      <td></td>\n",
              "      <td></td>\n",
              "      <td></td>\n",
              "      <td>zero</td>\n",
              "      <td>Pallative care</td>\n",
              "      <td></td>\n",
              "      <td></td>\n",
              "      <td></td>\n",
              "      <td>ERCP</td>\n",
              "      <td></td>\n",
              "      <td>Progressed</td>\n",
              "      <td>Absent</td>\n",
              "      <td></td>\n",
              "      <td>No</td>\n",
              "      <td></td>\n",
              "      <td>Censured(Survived or Unknown status)</td>\n",
              "      <td>10</td>\n",
              "      <td></td>\n",
              "      <td></td>\n",
              "      <td></td>\n",
              "      <td>Progression of the disease</td>\n",
              "      <td>1.0</td>\n",
              "    </tr>\n",
              "    <tr>\n",
              "      <th>2</th>\n",
              "      <td>3</td>\n",
              "      <td>80</td>\n",
              "      <td>female</td>\n",
              "      <td>widowed</td>\n",
              "      <td>illterate</td>\n",
              "      <td>unemployed</td>\n",
              "      <td>None</td>\n",
              "      <td>No</td>\n",
              "      <td>Adenocarcinoma</td>\n",
              "      <td>Head</td>\n",
              "      <td>stage III</td>\n",
              "      <td>present</td>\n",
              "      <td>yes</td>\n",
              "      <td>No</td>\n",
              "      <td>Yes</td>\n",
              "      <td></td>\n",
              "      <td>No</td>\n",
              "      <td>two</td>\n",
              "      <td>Pallative care</td>\n",
              "      <td></td>\n",
              "      <td></td>\n",
              "      <td></td>\n",
              "      <td>ERCP</td>\n",
              "      <td></td>\n",
              "      <td>Progressed</td>\n",
              "      <td>Absent</td>\n",
              "      <td></td>\n",
              "      <td>No</td>\n",
              "      <td></td>\n",
              "      <td>Censured(Survived or Unknown status)</td>\n",
              "      <td>4</td>\n",
              "      <td></td>\n",
              "      <td></td>\n",
              "      <td></td>\n",
              "      <td>Non-response</td>\n",
              "      <td>2.0</td>\n",
              "    </tr>\n",
              "    <tr>\n",
              "      <th>3</th>\n",
              "      <td>4</td>\n",
              "      <td>54</td>\n",
              "      <td>male</td>\n",
              "      <td>Divorced</td>\n",
              "      <td>teritary</td>\n",
              "      <td>private employee</td>\n",
              "      <td>None</td>\n",
              "      <td>No</td>\n",
              "      <td>Adenocarcinoma</td>\n",
              "      <td>Head</td>\n",
              "      <td>stage III</td>\n",
              "      <td>present</td>\n",
              "      <td>no</td>\n",
              "      <td>Yes</td>\n",
              "      <td>No</td>\n",
              "      <td></td>\n",
              "      <td>No</td>\n",
              "      <td>one</td>\n",
              "      <td>Chemotherapy</td>\n",
              "      <td>No</td>\n",
              "      <td>FOLFIRI</td>\n",
              "      <td>6</td>\n",
              "      <td></td>\n",
              "      <td>&lt;5</td>\n",
              "      <td>Regressed</td>\n",
              "      <td>Present</td>\n",
              "      <td>119</td>\n",
              "      <td>No</td>\n",
              "      <td></td>\n",
              "      <td>Censured(Survived or Unknown status)</td>\n",
              "      <td>84</td>\n",
              "      <td></td>\n",
              "      <td></td>\n",
              "      <td>7</td>\n",
              "      <td>Partial remission</td>\n",
              "      <td>1.0</td>\n",
              "    </tr>\n",
              "    <tr>\n",
              "      <th>4</th>\n",
              "      <td>5</td>\n",
              "      <td>62</td>\n",
              "      <td>male</td>\n",
              "      <td>married</td>\n",
              "      <td>illterate</td>\n",
              "      <td>unemployed</td>\n",
              "      <td>None</td>\n",
              "      <td>No</td>\n",
              "      <td>Adenocarcinoma</td>\n",
              "      <td>Tail</td>\n",
              "      <td>stage IV</td>\n",
              "      <td>absent</td>\n",
              "      <td></td>\n",
              "      <td></td>\n",
              "      <td></td>\n",
              "      <td></td>\n",
              "      <td></td>\n",
              "      <td>zero</td>\n",
              "      <td>Pallative care</td>\n",
              "      <td></td>\n",
              "      <td></td>\n",
              "      <td></td>\n",
              "      <td>Tramadol+plasil</td>\n",
              "      <td></td>\n",
              "      <td>Progressed</td>\n",
              "      <td>Present</td>\n",
              "      <td>999</td>\n",
              "      <td>Yes</td>\n",
              "      <td>liver</td>\n",
              "      <td>Censured(Survived or Unknown status)</td>\n",
              "      <td>1</td>\n",
              "      <td>1</td>\n",
              "      <td>1</td>\n",
              "      <td></td>\n",
              "      <td>Progression of the disease</td>\n",
              "      <td>2.0</td>\n",
              "    </tr>\n",
              "  </tbody>\n",
              "</table>\n",
              "</div>"
            ],
            "text/plain": [
              "   Card_No  Age  ...            Status_Remission Age_categories\n",
              "0        1   66  ...          Complete remission            2.0\n",
              "1        2   39  ...  Progression of the disease            1.0\n",
              "2        3   80  ...                Non-response            2.0\n",
              "3        4   54  ...           Partial remission            1.0\n",
              "4        5   62  ...  Progression of the disease            2.0\n",
              "\n",
              "[5 rows x 36 columns]"
            ]
          },
          "metadata": {
            "tags": []
          },
          "execution_count": 43
        }
      ]
    },
    {
      "cell_type": "markdown",
      "metadata": {
        "id": "2hhlHTXZjfJk"
      },
      "source": [
        "#### 1. What is the fatality rate of cancer patients across each of the stages of the disease? "
      ]
    },
    {
      "cell_type": "code",
      "metadata": {
        "id": "qNEWOje6HLwK",
        "colab": {
          "base_uri": "https://localhost:8080/"
        },
        "outputId": "2d4603ce-ff00-4f4a-a56b-193b97c9075b"
      },
      "source": [
        "# Frequency tables of stage of cancer and status of patient\n",
        "df1=df.groupby('stage_cancer')\n",
        "df1['Status'].value_counts()\n"
      ],
      "execution_count": null,
      "outputs": [
        {
          "output_type": "execute_result",
          "data": {
            "text/plain": [
              "stage_cancer  Status                              \n",
              "stage I       Censured(Survived or Unknown status)     3\n",
              "stage II      Censured(Survived or Unknown status)     5\n",
              "stage III     Censured(Survived or Unknown status)    27\n",
              "              death                                    5\n",
              "stage IV      Censured(Survived or Unknown status)    15\n",
              "              death                                    8\n",
              "Name: Status, dtype: int64"
            ]
          },
          "metadata": {
            "tags": []
          },
          "execution_count": 55
        }
      ]
    },
    {
      "cell_type": "code",
      "metadata": {
        "colab": {
          "base_uri": "https://localhost:8080/",
          "height": 345
        },
        "id": "6_MrH1DWZoyH",
        "outputId": "67eae0d5-f3ad-4f1f-f838-d8d71d921fa1"
      },
      "source": [
        "# Bar graph on stage cancer and status\n",
        "df1=df.groupby('stage_cancer')\n",
        "df1['Status'].value_counts().unstack().plot.bar()\n",
        "plt.ylabel('Number of patients')\n",
        "plt.title('Comparison of patient status and number of patients')\n",
        "# Death occurs in stage 3 and 4\n",
        "# majority of the patients are later stages."
      ],
      "execution_count": null,
      "outputs": [
        {
          "output_type": "execute_result",
          "data": {
            "text/plain": [
              "Text(0.5, 1.0, 'Comparison of patient status and number of patients')"
            ]
          },
          "metadata": {
            "tags": []
          },
          "execution_count": 48
        },
        {
          "output_type": "display_data",
          "data": {
            "image/png": "[encoded data removed]",
            "text/plain": [
              "<Figure size 432x288 with 1 Axes>"
            ]
          },
          "metadata": {
            "tags": [],
            "needs_background": "light"
          }
        }
      ]
    },
    {
      "cell_type": "markdown",
      "metadata": {
        "id": "OjWw5Xz9msnj"
      },
      "source": [
        "#### 2. What is the relationship between the stage of detection and remission in cancer patients?"
      ]
    },
    {
      "cell_type": "code",
      "metadata": {
        "colab": {
          "base_uri": "https://localhost:8080/"
        },
        "id": "GSFxj1vAFcML",
        "outputId": "09dd0af3-7bd1-4563-bde4-ee06af4ae6ad"
      },
      "source": [
        "# Frequency table on the stage of cancer and status of remission of cancer\n",
        "x=df.groupby('stage_cancer')\n",
        "x['Status_Remission'].value_counts()"
      ],
      "execution_count": null,
      "outputs": [
        {
          "output_type": "execute_result",
          "data": {
            "text/plain": [
              "stage_cancer  Status_Remission          \n",
              "stage I       Complete remission             1\n",
              "              Non-response                   1\n",
              "              Progression of the disease     1\n",
              "stage II      Complete remission             2\n",
              "              Partial remission              2\n",
              "              Non-response                   1\n",
              "stage III     Progression of the disease    24\n",
              "              Non-response                   4\n",
              "              Partial remission              4\n",
              "stage IV      Progression of the disease    23\n",
              "Name: Status_Remission, dtype: int64"
            ]
          },
          "metadata": {
            "tags": []
          },
          "execution_count": 19
        }
      ]
    },
    {
      "cell_type": "code",
      "metadata": {
        "colab": {
          "base_uri": "https://localhost:8080/",
          "height": 365
        },
        "id": "90K1gWG2U4Ky",
        "outputId": "94d16a73-5677-4e6d-f941-1611a051b671"
      },
      "source": [
        "# Bar Graph on the stage of cancer and status of remission of cancer\n",
        "df1=df.groupby('stage_cancer')\n",
        "df1['Status_Remission'].value_counts().unstack().plot.bar(stacked=True)\n",
        "plt.ylabel('Number of patients')\n",
        "plt.title('Comparison of status of remission of cancer and number of patients')"
      ],
      "execution_count": null,
      "outputs": [
        {
          "output_type": "execute_result",
          "data": {
            "text/plain": [
              "Text(0.5, 1.0, 'Comparison of status of remission of cancer and number of patients')"
            ]
          },
          "metadata": {
            "tags": []
          },
          "execution_count": 49
        },
        {
          "output_type": "display_data",
          "data": {
            "image/png": "[encoded data removed]",
            "text/plain": [
              "<Figure size 432x288 with 1 Axes>"
            ]
          },
          "metadata": {
            "tags": [],
            "needs_background": "light"
          }
        }
      ]
    },
    {
      "cell_type": "markdown",
      "metadata": {
        "id": "h5PlV4xQmTss"
      },
      "source": [
        "#### 3. What is the effect of underlying ailments on the remission of cancer in cancer patients?"
      ]
    },
    {
      "cell_type": "code",
      "metadata": {
        "colab": {
          "base_uri": "https://localhost:8080/"
        },
        "id": "sLC_9-HVYCSQ",
        "outputId": "fa164e56-79d5-4591-dbfa-503eed52b19c"
      },
      "source": [
        "# Frequency table of commorbidity and status of remmission\n",
        "aa=df.groupby('comorbidity')\n",
        "aa['Status_Remission'].value_counts()"
      ],
      "execution_count": null,
      "outputs": [
        {
          "output_type": "execute_result",
          "data": {
            "text/plain": [
              "comorbidity  Status_Remission          \n",
              "absent       Progression of the disease    20\n",
              "             Non-response                   5\n",
              "             Complete remission             3\n",
              "             Partial remission              3\n",
              "present      Progression of the disease    28\n",
              "             Partial remission              3\n",
              "             Non-response                   1\n",
              "Name: Status_Remission, dtype: int64"
            ]
          },
          "metadata": {
            "tags": []
          },
          "execution_count": 21
        }
      ]
    },
    {
      "cell_type": "code",
      "metadata": {
        "colab": {
          "base_uri": "https://localhost:8080/",
          "height": 341
        },
        "id": "vxIGMrV0WMV1",
        "outputId": "62c4f7b5-0082-48c7-dcf6-3bcbd3522306"
      },
      "source": [
        "# Bar graph on Comparison of status of remission of cancer and number of patients\n",
        "df_1=df.groupby('comorbidity')\n",
        "df_1['Status_Remission'].value_counts().unstack().plot.bar(stacked=True,legend='center')\n",
        "plt.ylabel('Number of patients')\n",
        "plt.title('Comparison of status of comorbidity and remission of cancer')\n",
        "\n"
      ],
      "execution_count": null,
      "outputs": [
        {
          "output_type": "execute_result",
          "data": {
            "text/plain": [
              "Text(0.5, 1.0, 'Comparison of status of comorbidity and remission of cancer')"
            ]
          },
          "metadata": {
            "tags": []
          },
          "execution_count": 50
        },
        {
          "output_type": "display_data",
          "data": {
            "image/png": "[encoded data removed]",
            "text/plain": [
              "<Figure size 432x288 with 1 Axes>"
            ]
          },
          "metadata": {
            "tags": [],
            "needs_background": "light"
          }
        }
      ]
    },
    {
      "cell_type": "code",
      "metadata": {
        "colab": {
          "base_uri": "https://localhost:8080/",
          "height": 160
        },
        "id": "KX--nozYaivM",
        "outputId": "92b7a668-591f-44ec-8712-c1bf928cc9a1"
      },
      "source": [
        "# Crosstab of comorbidity and Status of remission\n",
        "a=df['comorbidity']\n",
        "r=df['Status_Remission']\n",
        "ar=pd.crosstab(a,r)\n",
        "ar"
      ],
      "execution_count": null,
      "outputs": [
        {
          "output_type": "execute_result",
          "data": {
            "text/html": [
              "<div>\n",
              "<style scoped>\n",
              "    .dataframe tbody tr th:only-of-type {\n",
              "        vertical-align: middle;\n",
              "    }\n",
              "\n",
              "    .dataframe tbody tr th {\n",
              "        vertical-align: top;\n",
              "    }\n",
              "\n",
              "    .dataframe thead th {\n",
              "        text-align: right;\n",
              "    }\n",
              "</style>\n",
              "<table border=\"1\" class=\"dataframe\">\n",
              "  <thead>\n",
              "    <tr style=\"text-align: right;\">\n",
              "      <th>Status_Remission</th>\n",
              "      <th>Complete remission</th>\n",
              "      <th>Non-response</th>\n",
              "      <th>Partial remission</th>\n",
              "      <th>Progression of the disease</th>\n",
              "    </tr>\n",
              "    <tr>\n",
              "      <th>comorbidity</th>\n",
              "      <th></th>\n",
              "      <th></th>\n",
              "      <th></th>\n",
              "      <th></th>\n",
              "    </tr>\n",
              "  </thead>\n",
              "  <tbody>\n",
              "    <tr>\n",
              "      <th>absent</th>\n",
              "      <td>3</td>\n",
              "      <td>5</td>\n",
              "      <td>3</td>\n",
              "      <td>20</td>\n",
              "    </tr>\n",
              "    <tr>\n",
              "      <th>present</th>\n",
              "      <td>0</td>\n",
              "      <td>1</td>\n",
              "      <td>3</td>\n",
              "      <td>28</td>\n",
              "    </tr>\n",
              "  </tbody>\n",
              "</table>\n",
              "</div>"
            ],
            "text/plain": [
              "Status_Remission  Complete remission  ...  Progression of the disease\n",
              "comorbidity                           ...                            \n",
              "absent                             3  ...                          20\n",
              "present                            0  ...                          28\n",
              "\n",
              "[2 rows x 4 columns]"
            ]
          },
          "metadata": {
            "tags": []
          },
          "execution_count": 23
        }
      ]
    },
    {
      "cell_type": "markdown",
      "metadata": {
        "id": "-NLEsIuAkyXt"
      },
      "source": [
        "#### 4. What is the relationship between the treatment regimen and remission in cancer patients?"
      ]
    },
    {
      "cell_type": "code",
      "metadata": {
        "colab": {
          "base_uri": "https://localhost:8080/",
          "height": 498
        },
        "id": "P5L2OKfZZ7bo",
        "outputId": "a052806a-8572-498d-d615-93ff4a581e89"
      },
      "source": [
        "# Crosstab of Treatment Regimen and Status of remission\n",
        "df1=df.groupby('Treatment_Regimen')\n",
        "df1['Status_Remission'].value_counts().unstack().plot.bar(stacked=True)\n",
        "plt.ylabel('Number of patients')\n",
        "plt.xlabel('Treatment Regimen')\n",
        "plt.title('Comparison of status of remission of cancer and number of patients')\n",
        "\n",
        "# Surgery indicates partial to complete remission\n",
        "# The cancer progressed greatly with pallative care, chemotherapy and treatment refusal\n",
        "# Combination therapy has a mix of results: all remission stages"
      ],
      "execution_count": null,
      "outputs": [
        {
          "output_type": "execute_result",
          "data": {
            "text/plain": [
              "Text(0.5, 1.0, 'Comparison of status of remission of cancer and number of patients')"
            ]
          },
          "metadata": {
            "tags": []
          },
          "execution_count": 82
        },
        {
          "output_type": "display_data",
          "data": {
            "image/png": "[encoded data removed]",
            "text/plain": [
              "<Figure size 432x288 with 1 Axes>"
            ]
          },
          "metadata": {
            "tags": [],
            "needs_background": "light"
          }
        }
      ]
    },
    {
      "cell_type": "code",
      "metadata": {
        "colab": {
          "base_uri": "https://localhost:8080/",
          "height": 271
        },
        "id": "4F3VT_-zWWDu",
        "outputId": "af0db15c-404c-44c0-94dc-e54d4ce9582b"
      },
      "source": [
        "# A Percentage table of treatment regimen and remmission status\n",
        "pd.crosstab(df['Treatment_Regimen'],df['Status_Remission'],normalize='index')\n",
        "\n",
        "# Treatment refusal or missing regimen has a 100% progression of the disease\n",
        "# Surgery has a 40% chance of complete remission and 60% partial remission\n",
        "# Pallative care has a high cancer progression rate of 96.7% while it offers 3.3% of patients are non responsive\n",
        "# Combination therapy has 16.67% complete remission, 33.33% Non response, 16.67% partial remission and 33.33% Progression of the cancer\n"
      ],
      "execution_count": null,
      "outputs": [
        {
          "output_type": "execute_result",
          "data": {
            "text/html": [
              "<div>\n",
              "<style scoped>\n",
              "    .dataframe tbody tr th:only-of-type {\n",
              "        vertical-align: middle;\n",
              "    }\n",
              "\n",
              "    .dataframe tbody tr th {\n",
              "        vertical-align: top;\n",
              "    }\n",
              "\n",
              "    .dataframe thead th {\n",
              "        text-align: right;\n",
              "    }\n",
              "</style>\n",
              "<table border=\"1\" class=\"dataframe\">\n",
              "  <thead>\n",
              "    <tr style=\"text-align: right;\">\n",
              "      <th>Status_Remission</th>\n",
              "      <th>Complete remission</th>\n",
              "      <th>Non-response</th>\n",
              "      <th>Partial remission</th>\n",
              "      <th>Progression of the disease</th>\n",
              "    </tr>\n",
              "    <tr>\n",
              "      <th>Treatment_Regimen</th>\n",
              "      <th></th>\n",
              "      <th></th>\n",
              "      <th></th>\n",
              "      <th></th>\n",
              "    </tr>\n",
              "  </thead>\n",
              "  <tbody>\n",
              "    <tr>\n",
              "      <th>Chemotherapy</th>\n",
              "      <td>0.000000</td>\n",
              "      <td>0.150000</td>\n",
              "      <td>0.100000</td>\n",
              "      <td>0.750000</td>\n",
              "    </tr>\n",
              "    <tr>\n",
              "      <th>Combination therapy</th>\n",
              "      <td>0.166667</td>\n",
              "      <td>0.333333</td>\n",
              "      <td>0.166667</td>\n",
              "      <td>0.333333</td>\n",
              "    </tr>\n",
              "    <tr>\n",
              "      <th>Pallative care</th>\n",
              "      <td>0.000000</td>\n",
              "      <td>0.033333</td>\n",
              "      <td>0.000000</td>\n",
              "      <td>0.966667</td>\n",
              "    </tr>\n",
              "    <tr>\n",
              "      <th>Treatment refusal/missing regimen</th>\n",
              "      <td>0.000000</td>\n",
              "      <td>0.000000</td>\n",
              "      <td>0.000000</td>\n",
              "      <td>1.000000</td>\n",
              "    </tr>\n",
              "    <tr>\n",
              "      <th>surgery</th>\n",
              "      <td>0.400000</td>\n",
              "      <td>0.000000</td>\n",
              "      <td>0.600000</td>\n",
              "      <td>0.000000</td>\n",
              "    </tr>\n",
              "  </tbody>\n",
              "</table>\n",
              "</div>"
            ],
            "text/plain": [
              "Status_Remission                   Complete remission  ...  Progression of the disease\n",
              "Treatment_Regimen                                      ...                            \n",
              "Chemotherapy                                 0.000000  ...                    0.750000\n",
              "Combination therapy                          0.166667  ...                    0.333333\n",
              "Pallative care                               0.000000  ...                    0.966667\n",
              "Treatment refusal/missing regimen            0.000000  ...                    1.000000\n",
              "surgery                                      0.400000  ...                    0.000000\n",
              "\n",
              "[5 rows x 4 columns]"
            ]
          },
          "metadata": {
            "tags": []
          },
          "execution_count": 25
        }
      ]
    },
    {
      "cell_type": "code",
      "metadata": {
        "colab": {
          "base_uri": "https://localhost:8080/"
        },
        "id": "7ZIyC5ugHkVE",
        "outputId": "a280e5fe-bed6-4521-da1f-bc468ed329e2"
      },
      "source": [
        "# Frequency table of comorbidity verses Status\n",
        "x=df.groupby('comorbidity')\n",
        "x['Status'].value_counts()\n",
        "\n",
        "# 9 of the patients with comorbidities died while 23 are censured\n",
        "# 4 of the patients without comorbidities died while 27 are censured"
      ],
      "execution_count": null,
      "outputs": [
        {
          "output_type": "execute_result",
          "data": {
            "text/plain": [
              "comorbidity  Status                              \n",
              "absent       Censured(Survived or Unknown status)    27\n",
              "             death                                    4\n",
              "present      Censured(Survived or Unknown status)    23\n",
              "             death                                    9\n",
              "Name: Status, dtype: int64"
            ]
          },
          "metadata": {
            "tags": []
          },
          "execution_count": 53
        }
      ]
    },
    {
      "cell_type": "code",
      "metadata": {
        "colab": {
          "base_uri": "https://localhost:8080/"
        },
        "id": "6YPQW3mBIB8u",
        "outputId": "e25ff3f1-d21f-4ed6-8fbd-85f61f46cafc"
      },
      "source": [
        "# Frequency table of cancer stage and treatment regimen with status of patient\n",
        "x=df.groupby(['stage_cancer','Treatment_Regimen'])\n",
        "x['Status'].value_counts()"
      ],
      "execution_count": null,
      "outputs": [
        {
          "output_type": "execute_result",
          "data": {
            "text/plain": [
              "stage_cancer  Treatment_Regimen                  Status                              \n",
              "stage I       Combination therapy                Censured(Survived or Unknown status)     3\n",
              "stage II      Chemotherapy                       Censured(Survived or Unknown status)     1\n",
              "              Combination therapy                Censured(Survived or Unknown status)     1\n",
              "              surgery                            Censured(Survived or Unknown status)     3\n",
              "stage III     Chemotherapy                       Censured(Survived or Unknown status)     9\n",
              "                                                 death                                    1\n",
              "              Combination therapy                Censured(Survived or Unknown status)     1\n",
              "              Pallative care                     Censured(Survived or Unknown status)    15\n",
              "                                                 death                                    3\n",
              "              Treatment refusal/missing regimen  Censured(Survived or Unknown status)     1\n",
              "              surgery                            Censured(Survived or Unknown status)     1\n",
              "                                                 death                                    1\n",
              "stage IV      Chemotherapy                       Censured(Survived or Unknown status)     7\n",
              "                                                 death                                    2\n",
              "              Combination therapy                Censured(Survived or Unknown status)     1\n",
              "              Pallative care                     Censured(Survived or Unknown status)     6\n",
              "                                                 death                                    6\n",
              "              Treatment refusal/missing regimen  Censured(Survived or Unknown status)     1\n",
              "Name: Status, dtype: int64"
            ]
          },
          "metadata": {
            "tags": []
          },
          "execution_count": 27
        }
      ]
    },
    {
      "cell_type": "code",
      "metadata": {
        "colab": {
          "base_uri": "https://localhost:8080/"
        },
        "id": "XXScf55JWguN",
        "outputId": "2fc615a6-ae6f-4e35-e219-5e0470921031"
      },
      "source": [
        "# Checking for normality in the Age variable\n",
        "\n",
        "from scipy.stats import shapiro\n",
        "stat, p = shapiro(df['Age'])\n",
        "print('Statistics=%.3f, p=%.3f' % (stat, p))\n",
        "# interpret\n",
        "alpha = 0.05\n",
        "if p > alpha:\n",
        "\tprint('Sample looks Gaussian')\n",
        "else:\n",
        "\tprint('Sample does not look Gaussian')\n",
        " \n",
        " # Sample looks gaussian"
      ],
      "execution_count": null,
      "outputs": [
        {
          "output_type": "stream",
          "text": [
            "Statistics=0.987, p=0.762\n",
            "Sample looks Gaussian\n"
          ],
          "name": "stdout"
        }
      ]
    },
    {
      "cell_type": "markdown",
      "metadata": {
        "id": "j9X1BogM3JTm"
      },
      "source": [
        "## Hypothesis Testing\n"
      ]
    },
    {
      "cell_type": "markdown",
      "metadata": {
        "id": "NtFiR7d43OS2"
      },
      "source": [
        "Chi-2 test\n",
        "The Chi-Squared test is a statistical hypothesis test that assumes (the null hypothesis) that the observed frequencies for a categorical variable match the expected frequencies for the categorical variable.\n"
      ]
    },
    {
      "cell_type": "markdown",
      "metadata": {
        "id": "Bbjf58jpnSWR"
      },
      "source": [
        "#### Research Hypothesis 1: Early detection of cancer will significantly increase remission  of pancreatic cancer compared to late detection "
      ]
    },
    {
      "cell_type": "markdown",
      "metadata": {
        "id": "L3QRY9G6VVWx"
      },
      "source": [
        "**Null hypothesis:**\n",
        "H0 =There is no relationship between early detection of cancer and remission of cancer\n",
        "\n",
        "**Alternate hypothesis:**\n",
        "H1 =There is a relationship between early detection of cancer and remission of cancer\n"
      ]
    },
    {
      "cell_type": "code",
      "metadata": {
        "colab": {
          "base_uri": "https://localhost:8080/"
        },
        "id": "qe0z--112fPD",
        "outputId": "ace776df-e46b-4e57-de44-a6da1eadb3da"
      },
      "source": [
        "# Chi square test on indendepence of Cancer stages and status of remission\n",
        "ar=pd.crosstab(df['stage_cancer'],df['Status_Remission'])\n",
        "from scipy.stats import chi2_contingency\n",
        "chi2_contingency(ar)\n",
        "\n",
        "# alpha=0.05\n",
        "# p value= 9.165821691512042e-06\n",
        "# alpha > pvalue\n",
        "# We reject H0 and conclude there is evidence of association between stages of cancer and status and remission"
      ],
      "execution_count": null,
      "outputs": [
        {
          "output_type": "execute_result",
          "data": {
            "text/plain": [
              "(39.55,\n",
              " 9.165821691512042e-06,\n",
              " 9,\n",
              " array([[ 0.14285714,  0.28571429,  0.28571429,  2.28571429],\n",
              "        [ 0.23809524,  0.47619048,  0.47619048,  3.80952381],\n",
              "        [ 1.52380952,  3.04761905,  3.04761905, 24.38095238],\n",
              "        [ 1.0952381 ,  2.19047619,  2.19047619, 17.52380952]]))"
            ]
          },
          "metadata": {
            "tags": []
          },
          "execution_count": 29
        }
      ]
    },
    {
      "cell_type": "markdown",
      "metadata": {
        "id": "qdA84IUxn09R"
      },
      "source": [
        "#### Research Hypothesis 2: Presence of comorbidities will have a significant effect on the remission of pancreatic cancer compared to absence of comorbidities"
      ]
    },
    {
      "cell_type": "markdown",
      "metadata": {
        "id": "Bp9XyoR7Vqce"
      },
      "source": [
        "**Null hypothesis:**\n",
        "H0:  There is no relationship between presence of comorbidities and remission of cancer\n",
        "\n",
        "**Alternate hypothesis:**\n",
        "H1 = There is a relationship between presence of comorbidities and remission of cancer\n"
      ]
    },
    {
      "cell_type": "code",
      "metadata": {
        "colab": {
          "base_uri": "https://localhost:8080/"
        },
        "id": "txuwXalQpncj",
        "outputId": "3186f7b7-2c7d-4105-e912-8d7eaac5c23a"
      },
      "source": [
        "# Chi square test on indendepence of comorbidities and status of remission\n",
        "ar=pd.crosstab(df['comorbidity'],df['Status_Remission'])\n",
        "from scipy.stats import chi2_contingency\n",
        "chi2_contingency(ar)\n",
        "\n",
        "# alpha=0.05\n",
        "# p value= 0.0723\n",
        "# alpha < p-value\n",
        "# We fail to reject H0 and conclude there is no evidence of association between comorbidity and status and remission\n"
      ],
      "execution_count": null,
      "outputs": [
        {
          "output_type": "execute_result",
          "data": {
            "text/plain": [
              "(6.985887096774193,\n",
              " 0.07234896166765376,\n",
              " 3,\n",
              " array([[ 1.47619048,  2.95238095,  2.95238095, 23.61904762],\n",
              "        [ 1.52380952,  3.04761905,  3.04761905, 24.38095238]]))"
            ]
          },
          "metadata": {
            "tags": []
          },
          "execution_count": 31
        }
      ]
    },
    {
      "cell_type": "markdown",
      "metadata": {
        "id": "JOQYq5Wonf3f"
      },
      "source": [
        "#### Research Hypothesis 3: The Treatment regimen will have a significant effect on the remission of pancreatic cancer compared to absence of comorbidities\n",
        "\n",
        "**Null hypothesis:**\n",
        "H0:  There is no relationship between the treatment regimen and remission of cancer \n",
        "\n",
        "**Alternate hypothesis:**\n",
        "H1 = There is a relationship between the treatment reg and remission of cance\n"
      ]
    },
    {
      "cell_type": "code",
      "metadata": {
        "colab": {
          "base_uri": "https://localhost:8080/"
        },
        "id": "7P9_7en820Mb",
        "outputId": "76ba601d-8a25-4d0c-97c0-475c9614baee"
      },
      "source": [
        "# Chi square test on indendepence of Treatment regimen and status of remission\n",
        "ar=pd.crosstab(df['Treatment_Regimen'],df['Status_Remission'])\n",
        "from scipy.stats import chi2_contingency\n",
        "chi2_contingency(ar)\n",
        "\n",
        "# alpha=0.05\n",
        "# p value= 4.331105732985716e-06\n",
        "# alpha > pvalue\n",
        "# We reject H0 and conclude there is evidence of association between treatment regimen and status remission"
      ],
      "execution_count": null,
      "outputs": [
        {
          "output_type": "execute_result",
          "data": {
            "text/plain": [
              "(47.184375,\n",
              " 4.331105732985716e-06,\n",
              " 12,\n",
              " array([[ 0.95238095,  1.9047619 ,  1.9047619 , 15.23809524],\n",
              "        [ 0.28571429,  0.57142857,  0.57142857,  4.57142857],\n",
              "        [ 1.42857143,  2.85714286,  2.85714286, 22.85714286],\n",
              "        [ 0.0952381 ,  0.19047619,  0.19047619,  1.52380952],\n",
              "        [ 0.23809524,  0.47619048,  0.47619048,  3.80952381]]))"
            ]
          },
          "metadata": {
            "tags": []
          },
          "execution_count": 30
        }
      ]
    }
  ]
}